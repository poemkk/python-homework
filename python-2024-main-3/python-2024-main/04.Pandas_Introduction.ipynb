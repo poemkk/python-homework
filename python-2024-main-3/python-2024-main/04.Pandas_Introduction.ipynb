{
 "cells": [
  {
   "cell_type": "markdown",
   "metadata": {},
   "source": [
    "# Pandas"
   ]
  },
  {
   "cell_type": "markdown",
   "metadata": {},
   "source": [
    "**Pandas** - библиотека для обработки и анализа данных на `Python`. Позволяет работать с табличными данными, временными рядами и другими структурами данных, анализировать и визуализировать их. \n",
    "\n",
    "Основные особенности:\n",
    "- богатый инструментарий для анализа данных - аггрегация, трансформация и т.п.\n",
    "- возможность чтения и записи данных из\\в разные форматы - `CSV`, `Excel`, СУБД\n",
    "- совместимость со многими библиотеками из экосистемы `Python` для научных вычислений\n",
    "- возможность работать и иерархическими данными\n"
   ]
  },
  {
   "cell_type": "markdown",
   "metadata": {},
   "source": [
    "## Series"
   ]
  },
  {
   "cell_type": "code",
   "execution_count": 1,
   "metadata": {},
   "outputs": [],
   "source": [
    "import numpy as np\n",
    "import pandas as pd"
   ]
  },
  {
   "cell_type": "markdown",
   "metadata": {},
   "source": [
    "Базовая структура данных - это `Series`. Интуитивно это типизированный вектор, каждый элемент которого имеет ассоциированную с ним некоторую уникальную метку. Набор меток, который привязан к `Series` называется индексом. `Series` можно создать из списка `Python` или из массива `NumPy`"
   ]
  },
  {
   "cell_type": "code",
   "execution_count": 2,
   "metadata": {
    "collapsed": false,
    "jupyter": {
     "outputs_hidden": false
    }
   },
   "outputs": [
    {
     "data": {
      "text/plain": [
       "0    1\n",
       "1    2\n",
       "2    3\n",
       "3    4\n",
       "dtype: int64"
      ]
     },
     "execution_count": 2,
     "metadata": {},
     "output_type": "execute_result"
    }
   ],
   "source": [
    "pd.Series([1, 2, 3, 4])"
   ]
  },
  {
   "cell_type": "markdown",
   "metadata": {},
   "source": [
    "по умолчанию в качестве индекса выступают упорядоченные целые числа, но можно использовать строки, даты, и многие другие объекты. "
   ]
  },
  {
   "cell_type": "code",
   "execution_count": 3,
   "metadata": {
    "collapsed": false,
    "jupyter": {
     "outputs_hidden": false
    }
   },
   "outputs": [
    {
     "data": {
      "text/plain": [
       "a    1\n",
       "c    2\n",
       "b    3\n",
       "d    4\n",
       "dtype: int64"
      ]
     },
     "execution_count": 3,
     "metadata": {},
     "output_type": "execute_result"
    }
   ],
   "source": [
    "s = pd.Series([1, 2, 3, 4], index=[\"a\", \"c\", \"b\", \"d\"])\n",
    "s"
   ]
  },
  {
   "cell_type": "markdown",
   "metadata": {},
   "source": [
    "Можно и прямо использовать словарь с аналогичным результатом"
   ]
  },
  {
   "cell_type": "code",
   "execution_count": 4,
   "metadata": {
    "collapsed": false,
    "jupyter": {
     "outputs_hidden": false
    }
   },
   "outputs": [
    {
     "data": {
      "text/plain": [
       "a    1\n",
       "b    2\n",
       "c    3\n",
       "d    4\n",
       "dtype: int64"
      ]
     },
     "execution_count": 4,
     "metadata": {},
     "output_type": "execute_result"
    }
   ],
   "source": [
    "pd.Series({\"a\": 1, \"b\": 2, \"c\": 3, \"d\": 4})"
   ]
  },
  {
   "cell_type": "markdown",
   "metadata": {},
   "source": [
    "К элементам `Series` можно обращаться  по индексу"
   ]
  },
  {
   "cell_type": "code",
   "execution_count": 5,
   "metadata": {
    "collapsed": false,
    "jupyter": {
     "outputs_hidden": false
    }
   },
   "outputs": [
    {
     "data": {
      "text/plain": [
       "np.int64(2)"
      ]
     },
     "execution_count": 5,
     "metadata": {},
     "output_type": "execute_result"
    }
   ],
   "source": [
    "s[\"c\"]"
   ]
  },
  {
   "cell_type": "markdown",
   "metadata": {},
   "source": [
    "Так как индекс упорядоченный, мы можем обращаться к элементам в `Series` с помошью чисел, точно так же как мы это делали  в списках `Python` или массивав `NumPy`"
   ]
  },
  {
   "cell_type": "code",
   "execution_count": 6,
   "metadata": {
    "collapsed": false,
    "jupyter": {
     "outputs_hidden": false
    }
   },
   "outputs": [
    {
     "data": {
      "text/plain": [
       "np.int64(3)"
      ]
     },
     "execution_count": 6,
     "metadata": {},
     "output_type": "execute_result"
    }
   ],
   "source": [
    "s.iloc[2]"
   ]
  },
  {
   "cell_type": "markdown",
   "metadata": {},
   "source": [
    "Можем даже использовать срезы, получаяновый объект `Series`"
   ]
  },
  {
   "cell_type": "code",
   "execution_count": 7,
   "metadata": {
    "collapsed": false,
    "jupyter": {
     "outputs_hidden": false
    }
   },
   "outputs": [
    {
     "data": {
      "text/plain": [
       "b    3\n",
       "d    4\n",
       "dtype: int64"
      ]
     },
     "execution_count": 7,
     "metadata": {},
     "output_type": "execute_result"
    }
   ],
   "source": [
    "s[2:4]"
   ]
  },
  {
   "cell_type": "code",
   "execution_count": 8,
   "metadata": {
    "collapsed": false,
    "jupyter": {
     "outputs_hidden": false
    }
   },
   "outputs": [
    {
     "data": {
      "text/plain": [
       "c    2\n",
       "b    3\n",
       "d    4\n",
       "dtype: int64"
      ]
     },
     "execution_count": 8,
     "metadata": {},
     "output_type": "execute_result"
    }
   ],
   "source": [
    "s[\"c\":\"d\"]"
   ]
  },
  {
   "cell_type": "markdown",
   "metadata": {},
   "source": [
    "Из объекта `Series` можно получить `NumPy`-массив значений"
   ]
  },
  {
   "cell_type": "code",
   "execution_count": 9,
   "metadata": {
    "collapsed": false,
    "jupyter": {
     "outputs_hidden": false
    }
   },
   "outputs": [
    {
     "data": {
      "text/plain": [
       "array([1, 2, 3, 4])"
      ]
     },
     "execution_count": 9,
     "metadata": {},
     "output_type": "execute_result"
    }
   ],
   "source": [
    "s.to_numpy()"
   ]
  },
  {
   "cell_type": "markdown",
   "metadata": {},
   "source": [
    "и значения индекса"
   ]
  },
  {
   "cell_type": "code",
   "execution_count": 10,
   "metadata": {
    "collapsed": false,
    "jupyter": {
     "outputs_hidden": false
    }
   },
   "outputs": [
    {
     "data": {
      "text/plain": [
       "Index(['a', 'c', 'b', 'd'], dtype='object')"
      ]
     },
     "execution_count": 10,
     "metadata": {},
     "output_type": "execute_result"
    }
   ],
   "source": [
    "s.index"
   ]
  },
  {
   "cell_type": "markdown",
   "metadata": {},
   "source": [
    "Рассмотрим более интересный пример - загрузим CSV-файл с информацией о курсе Евро с 01.04.2017 ао 15.04.2017"
   ]
  },
  {
   "cell_type": "code",
   "execution_count": 11,
   "metadata": {
    "collapsed": false,
    "jupyter": {
     "outputs_hidden": false
    }
   },
   "outputs": [
    {
     "name": "stdout",
     "output_type": "stream",
     "text": [
      "2017-04-01,59.8107\n",
      "2017-04-04,59.8953\n",
      "2017-04-05,60.2427\n",
      "2017-04-06,59.6948\n",
      "2017-04-07,60.0827\n"
     ]
    }
   ],
   "source": [
    "# первые 5 строчек нашего файла\n",
    "!head -n 5 data/eur.csv"
   ]
  },
  {
   "cell_type": "markdown",
   "metadata": {},
   "source": [
    "Загружаем файл в `Series`"
   ]
  },
  {
   "cell_type": "code",
   "execution_count": 12,
   "metadata": {
    "collapsed": false,
    "jupyter": {
     "outputs_hidden": false
    }
   },
   "outputs": [
    {
     "data": {
      "text/plain": [
       "0\n",
       "2017-04-01    59.8107\n",
       "2017-04-04    59.8953\n",
       "2017-04-05    60.2427\n",
       "2017-04-06    59.6948\n",
       "2017-04-07    60.0827\n",
       "2017-04-08    60.5687\n",
       "2017-04-11    60.7469\n",
       "2017-04-12    60.3042\n",
       "2017-04-13    60.2631\n",
       "2017-04-14    60.2867\n",
       "2017-04-15    59.7791\n",
       "Name: 1, dtype: float64"
      ]
     },
     "execution_count": 12,
     "metadata": {},
     "output_type": "execute_result"
    }
   ],
   "source": [
    "s = pd.read_csv(\"data/eur.csv\", index_col=0, header=None, parse_dates=True).loc[:, 1]\n",
    "s"
   ]
  },
  {
   "cell_type": "code",
   "execution_count": 13,
   "metadata": {
    "collapsed": false,
    "jupyter": {
     "outputs_hidden": false
    }
   },
   "outputs": [
    {
     "data": {
      "text/plain": [
       "DatetimeIndex(['2017-04-01', '2017-04-04', '2017-04-05', '2017-04-06',\n",
       "               '2017-04-07', '2017-04-08', '2017-04-11', '2017-04-12',\n",
       "               '2017-04-13', '2017-04-14', '2017-04-15'],\n",
       "              dtype='datetime64[ns]', name=0, freq=None)"
      ]
     },
     "execution_count": 13,
     "metadata": {},
     "output_type": "execute_result"
    }
   ],
   "source": [
    "s.index"
   ]
  },
  {
   "cell_type": "markdown",
   "metadata": {},
   "source": [
    "Как мы видим, `Pandas` сама определила типы данных  (в том числе даты)"
   ]
  },
  {
   "cell_type": "markdown",
   "metadata": {},
   "source": [
    "Мы можем получить даты, для которых курс Евро меньше 60"
   ]
  },
  {
   "cell_type": "code",
   "execution_count": 14,
   "metadata": {
    "collapsed": false,
    "jupyter": {
     "outputs_hidden": false
    }
   },
   "outputs": [
    {
     "data": {
      "text/plain": [
       "0\n",
       "2017-04-01     True\n",
       "2017-04-04     True\n",
       "2017-04-05    False\n",
       "2017-04-06     True\n",
       "2017-04-07    False\n",
       "2017-04-08    False\n",
       "2017-04-11    False\n",
       "2017-04-12    False\n",
       "2017-04-13    False\n",
       "2017-04-14    False\n",
       "2017-04-15     True\n",
       "Name: 1, dtype: bool"
      ]
     },
     "execution_count": 14,
     "metadata": {},
     "output_type": "execute_result"
    }
   ],
   "source": [
    "s < 60"
   ]
  },
  {
   "cell_type": "markdown",
   "metadata": {},
   "source": [
    "Обратите внимание, что результат этой операции - новый `Series`, где индекс остается неизменным, а вместо курса евро - булевское значение. Наличие индекса - это основное отличие `Series` от обычных одномерных массивов `NumPy`"
   ]
  },
  {
   "cell_type": "markdown",
   "metadata": {},
   "source": [
    "Следующая стандартная операция заключается в получии подмножество `Series` на основе некоторого условия. Получим подмножество, где курс меньше 60."
   ]
  },
  {
   "cell_type": "code",
   "execution_count": 15,
   "metadata": {
    "collapsed": false,
    "jupyter": {
     "outputs_hidden": false
    }
   },
   "outputs": [
    {
     "data": {
      "text/plain": [
       "0\n",
       "2017-04-01    59.8107\n",
       "2017-04-04    59.8953\n",
       "2017-04-06    59.6948\n",
       "2017-04-15    59.7791\n",
       "Name: 1, dtype: float64"
      ]
     },
     "execution_count": 15,
     "metadata": {},
     "output_type": "execute_result"
    }
   ],
   "source": [
    "s[s < 60]"
   ]
  },
  {
   "cell_type": "markdown",
   "metadata": {},
   "source": [
    "Где курс меньше 60 после 4 апреля 2017 года"
   ]
  },
  {
   "cell_type": "code",
   "execution_count": 16,
   "metadata": {
    "collapsed": false,
    "jupyter": {
     "outputs_hidden": false
    }
   },
   "outputs": [
    {
     "data": {
      "text/plain": [
       "0\n",
       "2017-04-06    59.6948\n",
       "2017-04-15    59.7791\n",
       "Name: 1, dtype: float64"
      ]
     },
     "execution_count": 16,
     "metadata": {},
     "output_type": "execute_result"
    }
   ],
   "source": [
    "s[(s < 60) & (s.index > \"2017-04-04\")]"
   ]
  },
  {
   "cell_type": "markdown",
   "metadata": {},
   "source": [
    "Обратите внимание, что результат двух операций `s < 60` и `s.index > \"2017-04-04\"`  -- `Series` c логическими значениями. Мы совершаем между ними логическую операци \"&\" и получаем ещё один `Series` с логическими значениями."
   ]
  },
  {
   "cell_type": "markdown",
   "metadata": {},
   "source": [
    "## DataFrame"
   ]
  },
  {
   "cell_type": "markdown",
   "metadata": {},
   "source": [
    "С помощью `Series` мы можем оперировать одномерными данными (как в примере выше: дата $\\rightarrow$ курс евро). Но если данных больше, и мы хотим производить какой-то анализ на основе курса евро и курса доллара? Мы можем создать два объекта `Series`, но одновременная работа с ними может быть не очень удобной. \n",
    "\n",
    "**DataFrame** можно логически представить как именнованный набор объектов `Series` с одинаковым индексом. Если говорить более простым языком - это таблица, у каждой строки которой есть уникальное значение (индекс) и у каждого столбца - имя. Это чем-то напомнает `Excel`, только управлять таблицей мы будем из `Python`. Стоит отметить, что появление `DataFrame` инспирировано одноименной структурой данных из языка `R`."
   ]
  },
  {
   "cell_type": "markdown",
   "metadata": {},
   "source": [
    "`DataFrame` можно просто создать, передав в конструктор табличные данные и имена колонок"
   ]
  },
  {
   "cell_type": "code",
   "execution_count": 17,
   "metadata": {
    "collapsed": false,
    "jupyter": {
     "outputs_hidden": false
    }
   },
   "outputs": [
    {
     "data": {
      "text/html": [
       "<div>\n",
       "<style scoped>\n",
       "    .dataframe tbody tr th:only-of-type {\n",
       "        vertical-align: middle;\n",
       "    }\n",
       "\n",
       "    .dataframe tbody tr th {\n",
       "        vertical-align: top;\n",
       "    }\n",
       "\n",
       "    .dataframe thead th {\n",
       "        text-align: right;\n",
       "    }\n",
       "</style>\n",
       "<table border=\"1\" class=\"dataframe\">\n",
       "  <thead>\n",
       "    <tr style=\"text-align: right;\">\n",
       "      <th></th>\n",
       "      <th>a</th>\n",
       "      <th>b</th>\n",
       "      <th>c</th>\n",
       "    </tr>\n",
       "  </thead>\n",
       "  <tbody>\n",
       "    <tr>\n",
       "      <th>0</th>\n",
       "      <td>1</td>\n",
       "      <td>2</td>\n",
       "      <td>3</td>\n",
       "    </tr>\n",
       "    <tr>\n",
       "      <th>1</th>\n",
       "      <td>4</td>\n",
       "      <td>5</td>\n",
       "      <td>6</td>\n",
       "    </tr>\n",
       "  </tbody>\n",
       "</table>\n",
       "</div>"
      ],
      "text/plain": [
       "   a  b  c\n",
       "0  1  2  3\n",
       "1  4  5  6"
      ]
     },
     "execution_count": 17,
     "metadata": {},
     "output_type": "execute_result"
    }
   ],
   "source": [
    "pd.DataFrame(data=[[1, 2, 3], [4, 5, 6]], columns=[\"a\", \"b\", \"c\"])"
   ]
  },
  {
   "cell_type": "markdown",
   "metadata": {},
   "source": [
    "Или аналогично по столбцам"
   ]
  },
  {
   "cell_type": "code",
   "execution_count": 18,
   "metadata": {
    "collapsed": false,
    "jupyter": {
     "outputs_hidden": false
    }
   },
   "outputs": [
    {
     "data": {
      "text/html": [
       "<div>\n",
       "<style scoped>\n",
       "    .dataframe tbody tr th:only-of-type {\n",
       "        vertical-align: middle;\n",
       "    }\n",
       "\n",
       "    .dataframe tbody tr th {\n",
       "        vertical-align: top;\n",
       "    }\n",
       "\n",
       "    .dataframe thead th {\n",
       "        text-align: right;\n",
       "    }\n",
       "</style>\n",
       "<table border=\"1\" class=\"dataframe\">\n",
       "  <thead>\n",
       "    <tr style=\"text-align: right;\">\n",
       "      <th></th>\n",
       "      <th>a</th>\n",
       "      <th>b</th>\n",
       "      <th>c</th>\n",
       "    </tr>\n",
       "  </thead>\n",
       "  <tbody>\n",
       "    <tr>\n",
       "      <th>0</th>\n",
       "      <td>1</td>\n",
       "      <td>2</td>\n",
       "      <td>3</td>\n",
       "    </tr>\n",
       "    <tr>\n",
       "      <th>1</th>\n",
       "      <td>4</td>\n",
       "      <td>5</td>\n",
       "      <td>6</td>\n",
       "    </tr>\n",
       "  </tbody>\n",
       "</table>\n",
       "</div>"
      ],
      "text/plain": [
       "   a  b  c\n",
       "0  1  2  3\n",
       "1  4  5  6"
      ]
     },
     "execution_count": 18,
     "metadata": {},
     "output_type": "execute_result"
    }
   ],
   "source": [
    "pd.DataFrame(data={\"a\" : [1, 4], \"b\": [2, 5], \"c\": [3, 6]})"
   ]
  },
  {
   "cell_type": "markdown",
   "metadata": {},
   "source": [
    "Вместо списков, можно использовать массивы `NumPy` или `Series`"
   ]
  },
  {
   "cell_type": "markdown",
   "metadata": {},
   "source": [
    "Давайте загрузим исторические данные по евро, доллару и британскому фунту. Наш файл (в формате `CSV`) выглядит так"
   ]
  },
  {
   "cell_type": "code",
   "execution_count": 19,
   "metadata": {
    "collapsed": false,
    "jupyter": {
     "outputs_hidden": false
    }
   },
   "outputs": [
    {
     "name": "stdout",
     "output_type": "stream",
     "text": [
      "DATE,EUR,USD,GBP\n",
      "2017-04-01,59.8107,55.9606,69.7605\n",
      "2017-04-04,59.8953,56.1396,70.3429\n",
      "2017-04-05,60.2427,56.5553,70.3548\n",
      "2017-04-06,59.6948,55.894,69.4986\n"
     ]
    }
   ],
   "source": [
    "!head -n 5 data/currencies.csv"
   ]
  },
  {
   "cell_type": "markdown",
   "metadata": {},
   "source": [
    "c помощью параметров мы указываем как следует читать файл:\n",
    "- `index_col=0` - индекс расположен в первой колонке (отсчет идёт, как обычно, с нуля). \n",
    "- `header=0` - заголовки таблицы на первой строке. Если наш файл не содержит заголовка, мы можем просто указать `header=False`, в этом случае колонки будут носить численные именования.\n",
    "\n",
    "\n",
    "Чтобы не заграмождать экран, мы будем использовать метод `.head()`, который обрезает нашу таблицу до 5 строк. "
   ]
  },
  {
   "cell_type": "code",
   "execution_count": 20,
   "metadata": {
    "collapsed": false,
    "jupyter": {
     "outputs_hidden": false
    }
   },
   "outputs": [
    {
     "data": {
      "text/html": [
       "<div>\n",
       "<style scoped>\n",
       "    .dataframe tbody tr th:only-of-type {\n",
       "        vertical-align: middle;\n",
       "    }\n",
       "\n",
       "    .dataframe tbody tr th {\n",
       "        vertical-align: top;\n",
       "    }\n",
       "\n",
       "    .dataframe thead th {\n",
       "        text-align: right;\n",
       "    }\n",
       "</style>\n",
       "<table border=\"1\" class=\"dataframe\">\n",
       "  <thead>\n",
       "    <tr style=\"text-align: right;\">\n",
       "      <th></th>\n",
       "      <th>EUR</th>\n",
       "      <th>USD</th>\n",
       "      <th>GBP</th>\n",
       "    </tr>\n",
       "    <tr>\n",
       "      <th>DATE</th>\n",
       "      <th></th>\n",
       "      <th></th>\n",
       "      <th></th>\n",
       "    </tr>\n",
       "  </thead>\n",
       "  <tbody>\n",
       "    <tr>\n",
       "      <th>2017-04-01</th>\n",
       "      <td>59.8107</td>\n",
       "      <td>55.9606</td>\n",
       "      <td>69.7605</td>\n",
       "    </tr>\n",
       "    <tr>\n",
       "      <th>2017-04-04</th>\n",
       "      <td>59.8953</td>\n",
       "      <td>56.1396</td>\n",
       "      <td>70.3429</td>\n",
       "    </tr>\n",
       "    <tr>\n",
       "      <th>2017-04-05</th>\n",
       "      <td>60.2427</td>\n",
       "      <td>56.5553</td>\n",
       "      <td>70.3548</td>\n",
       "    </tr>\n",
       "    <tr>\n",
       "      <th>2017-04-06</th>\n",
       "      <td>59.6948</td>\n",
       "      <td>55.8940</td>\n",
       "      <td>69.4986</td>\n",
       "    </tr>\n",
       "    <tr>\n",
       "      <th>2017-04-07</th>\n",
       "      <td>60.0827</td>\n",
       "      <td>56.4369</td>\n",
       "      <td>70.3655</td>\n",
       "    </tr>\n",
       "  </tbody>\n",
       "</table>\n",
       "</div>"
      ],
      "text/plain": [
       "                EUR      USD      GBP\n",
       "DATE                                 \n",
       "2017-04-01  59.8107  55.9606  69.7605\n",
       "2017-04-04  59.8953  56.1396  70.3429\n",
       "2017-04-05  60.2427  56.5553  70.3548\n",
       "2017-04-06  59.6948  55.8940  69.4986\n",
       "2017-04-07  60.0827  56.4369  70.3655"
      ]
     },
     "execution_count": 20,
     "metadata": {},
     "output_type": "execute_result"
    }
   ],
   "source": [
    "df = pd.read_csv(\"data/currencies.csv\", index_col=0, header=0, parse_dates=[0])\n",
    "df.head()\n"
   ]
  },
  {
   "cell_type": "markdown",
   "metadata": {},
   "source": [
    "## Доступ к данным"
   ]
  },
  {
   "cell_type": "markdown",
   "metadata": {},
   "source": [
    "Мы можем получить один столбец, которые будет представим в виде объекта `Series`"
   ]
  },
  {
   "cell_type": "code",
   "execution_count": 21,
   "metadata": {
    "collapsed": false,
    "jupyter": {
     "outputs_hidden": false
    }
   },
   "outputs": [
    {
     "data": {
      "text/plain": [
       "DATE\n",
       "2017-04-01    55.9606\n",
       "2017-04-04    56.1396\n",
       "2017-04-05    56.5553\n",
       "2017-04-06    55.8940\n",
       "2017-04-07    56.4369\n",
       "Name: USD, dtype: float64"
      ]
     },
     "execution_count": 21,
     "metadata": {},
     "output_type": "execute_result"
    }
   ],
   "source": [
    "df[\"USD\"].head()"
   ]
  },
  {
   "cell_type": "markdown",
   "metadata": {},
   "source": [
    "Или срезать `DataFrame`, взяв только некоторые, интересные нам столбцы, получив новый `DataFrame`:"
   ]
  },
  {
   "cell_type": "code",
   "execution_count": 22,
   "metadata": {
    "collapsed": false,
    "jupyter": {
     "outputs_hidden": false
    }
   },
   "outputs": [
    {
     "data": {
      "text/html": [
       "<div>\n",
       "<style scoped>\n",
       "    .dataframe tbody tr th:only-of-type {\n",
       "        vertical-align: middle;\n",
       "    }\n",
       "\n",
       "    .dataframe tbody tr th {\n",
       "        vertical-align: top;\n",
       "    }\n",
       "\n",
       "    .dataframe thead th {\n",
       "        text-align: right;\n",
       "    }\n",
       "</style>\n",
       "<table border=\"1\" class=\"dataframe\">\n",
       "  <thead>\n",
       "    <tr style=\"text-align: right;\">\n",
       "      <th></th>\n",
       "      <th>USD</th>\n",
       "      <th>GBP</th>\n",
       "    </tr>\n",
       "    <tr>\n",
       "      <th>DATE</th>\n",
       "      <th></th>\n",
       "      <th></th>\n",
       "    </tr>\n",
       "  </thead>\n",
       "  <tbody>\n",
       "    <tr>\n",
       "      <th>2017-04-01</th>\n",
       "      <td>55.9606</td>\n",
       "      <td>69.7605</td>\n",
       "    </tr>\n",
       "    <tr>\n",
       "      <th>2017-04-04</th>\n",
       "      <td>56.1396</td>\n",
       "      <td>70.3429</td>\n",
       "    </tr>\n",
       "    <tr>\n",
       "      <th>2017-04-05</th>\n",
       "      <td>56.5553</td>\n",
       "      <td>70.3548</td>\n",
       "    </tr>\n",
       "    <tr>\n",
       "      <th>2017-04-06</th>\n",
       "      <td>55.8940</td>\n",
       "      <td>69.4986</td>\n",
       "    </tr>\n",
       "    <tr>\n",
       "      <th>2017-04-07</th>\n",
       "      <td>56.4369</td>\n",
       "      <td>70.3655</td>\n",
       "    </tr>\n",
       "  </tbody>\n",
       "</table>\n",
       "</div>"
      ],
      "text/plain": [
       "                USD      GBP\n",
       "DATE                        \n",
       "2017-04-01  55.9606  69.7605\n",
       "2017-04-04  56.1396  70.3429\n",
       "2017-04-05  56.5553  70.3548\n",
       "2017-04-06  55.8940  69.4986\n",
       "2017-04-07  56.4369  70.3655"
      ]
     },
     "execution_count": 22,
     "metadata": {},
     "output_type": "execute_result"
    }
   ],
   "source": [
    "df[[\"USD\", \"GBP\"]].head()"
   ]
  },
  {
   "cell_type": "markdown",
   "metadata": {},
   "source": [
    "мы можем создать новый столбец из старых. В данном случае посчитаем разницу между курсом фунта и евро в соответствующий день"
   ]
  },
  {
   "cell_type": "code",
   "execution_count": 23,
   "metadata": {
    "collapsed": false,
    "jupyter": {
     "outputs_hidden": false
    }
   },
   "outputs": [
    {
     "data": {
      "text/html": [
       "<div>\n",
       "<style scoped>\n",
       "    .dataframe tbody tr th:only-of-type {\n",
       "        vertical-align: middle;\n",
       "    }\n",
       "\n",
       "    .dataframe tbody tr th {\n",
       "        vertical-align: top;\n",
       "    }\n",
       "\n",
       "    .dataframe thead th {\n",
       "        text-align: right;\n",
       "    }\n",
       "</style>\n",
       "<table border=\"1\" class=\"dataframe\">\n",
       "  <thead>\n",
       "    <tr style=\"text-align: right;\">\n",
       "      <th></th>\n",
       "      <th>EUR</th>\n",
       "      <th>USD</th>\n",
       "      <th>GBP</th>\n",
       "      <th>GBP-EUR</th>\n",
       "    </tr>\n",
       "    <tr>\n",
       "      <th>DATE</th>\n",
       "      <th></th>\n",
       "      <th></th>\n",
       "      <th></th>\n",
       "      <th></th>\n",
       "    </tr>\n",
       "  </thead>\n",
       "  <tbody>\n",
       "    <tr>\n",
       "      <th>2017-04-01</th>\n",
       "      <td>59.8107</td>\n",
       "      <td>55.9606</td>\n",
       "      <td>69.7605</td>\n",
       "      <td>9.9498</td>\n",
       "    </tr>\n",
       "    <tr>\n",
       "      <th>2017-04-04</th>\n",
       "      <td>59.8953</td>\n",
       "      <td>56.1396</td>\n",
       "      <td>70.3429</td>\n",
       "      <td>10.4476</td>\n",
       "    </tr>\n",
       "    <tr>\n",
       "      <th>2017-04-05</th>\n",
       "      <td>60.2427</td>\n",
       "      <td>56.5553</td>\n",
       "      <td>70.3548</td>\n",
       "      <td>10.1121</td>\n",
       "    </tr>\n",
       "    <tr>\n",
       "      <th>2017-04-06</th>\n",
       "      <td>59.6948</td>\n",
       "      <td>55.8940</td>\n",
       "      <td>69.4986</td>\n",
       "      <td>9.8038</td>\n",
       "    </tr>\n",
       "    <tr>\n",
       "      <th>2017-04-07</th>\n",
       "      <td>60.0827</td>\n",
       "      <td>56.4369</td>\n",
       "      <td>70.3655</td>\n",
       "      <td>10.2828</td>\n",
       "    </tr>\n",
       "  </tbody>\n",
       "</table>\n",
       "</div>"
      ],
      "text/plain": [
       "                EUR      USD      GBP  GBP-EUR\n",
       "DATE                                          \n",
       "2017-04-01  59.8107  55.9606  69.7605   9.9498\n",
       "2017-04-04  59.8953  56.1396  70.3429  10.4476\n",
       "2017-04-05  60.2427  56.5553  70.3548  10.1121\n",
       "2017-04-06  59.6948  55.8940  69.4986   9.8038\n",
       "2017-04-07  60.0827  56.4369  70.3655  10.2828"
      ]
     },
     "execution_count": 23,
     "metadata": {},
     "output_type": "execute_result"
    }
   ],
   "source": [
    "df[\"GBP-EUR\"] = df[\"GBP\"] - df[\"EUR\"]\n",
    "df.head(5)"
   ]
  },
  {
   "cell_type": "markdown",
   "metadata": {},
   "source": [
    "Или можно посмотреть на сколько изменялся курс евро и доллара с прошлого дня с помощью операции сдвига"
   ]
  },
  {
   "cell_type": "code",
   "execution_count": 24,
   "metadata": {
    "collapsed": false,
    "jupyter": {
     "outputs_hidden": false
    }
   },
   "outputs": [
    {
     "data": {
      "text/html": [
       "<div>\n",
       "<style scoped>\n",
       "    .dataframe tbody tr th:only-of-type {\n",
       "        vertical-align: middle;\n",
       "    }\n",
       "\n",
       "    .dataframe tbody tr th {\n",
       "        vertical-align: top;\n",
       "    }\n",
       "\n",
       "    .dataframe thead th {\n",
       "        text-align: right;\n",
       "    }\n",
       "</style>\n",
       "<table border=\"1\" class=\"dataframe\">\n",
       "  <thead>\n",
       "    <tr style=\"text-align: right;\">\n",
       "      <th></th>\n",
       "      <th>EUR</th>\n",
       "      <th>USD</th>\n",
       "      <th>GBP</th>\n",
       "      <th>GBP-EUR</th>\n",
       "      <th>$\\Delta$ EUR</th>\n",
       "      <th>$\\Delta$ USD</th>\n",
       "    </tr>\n",
       "    <tr>\n",
       "      <th>DATE</th>\n",
       "      <th></th>\n",
       "      <th></th>\n",
       "      <th></th>\n",
       "      <th></th>\n",
       "      <th></th>\n",
       "      <th></th>\n",
       "    </tr>\n",
       "  </thead>\n",
       "  <tbody>\n",
       "    <tr>\n",
       "      <th>2017-04-01</th>\n",
       "      <td>59.8107</td>\n",
       "      <td>55.9606</td>\n",
       "      <td>69.7605</td>\n",
       "      <td>9.9498</td>\n",
       "      <td>NaN</td>\n",
       "      <td>NaN</td>\n",
       "    </tr>\n",
       "    <tr>\n",
       "      <th>2017-04-04</th>\n",
       "      <td>59.8953</td>\n",
       "      <td>56.1396</td>\n",
       "      <td>70.3429</td>\n",
       "      <td>10.4476</td>\n",
       "      <td>0.0846</td>\n",
       "      <td>0.1790</td>\n",
       "    </tr>\n",
       "    <tr>\n",
       "      <th>2017-04-05</th>\n",
       "      <td>60.2427</td>\n",
       "      <td>56.5553</td>\n",
       "      <td>70.3548</td>\n",
       "      <td>10.1121</td>\n",
       "      <td>0.3474</td>\n",
       "      <td>0.4157</td>\n",
       "    </tr>\n",
       "    <tr>\n",
       "      <th>2017-04-06</th>\n",
       "      <td>59.6948</td>\n",
       "      <td>55.8940</td>\n",
       "      <td>69.4986</td>\n",
       "      <td>9.8038</td>\n",
       "      <td>-0.5479</td>\n",
       "      <td>-0.6613</td>\n",
       "    </tr>\n",
       "    <tr>\n",
       "      <th>2017-04-07</th>\n",
       "      <td>60.0827</td>\n",
       "      <td>56.4369</td>\n",
       "      <td>70.3655</td>\n",
       "      <td>10.2828</td>\n",
       "      <td>0.3879</td>\n",
       "      <td>0.5429</td>\n",
       "    </tr>\n",
       "  </tbody>\n",
       "</table>\n",
       "</div>"
      ],
      "text/plain": [
       "                EUR      USD      GBP  GBP-EUR  $\\Delta$ EUR  $\\Delta$ USD\n",
       "DATE                                                                      \n",
       "2017-04-01  59.8107  55.9606  69.7605   9.9498           NaN           NaN\n",
       "2017-04-04  59.8953  56.1396  70.3429  10.4476        0.0846        0.1790\n",
       "2017-04-05  60.2427  56.5553  70.3548  10.1121        0.3474        0.4157\n",
       "2017-04-06  59.6948  55.8940  69.4986   9.8038       -0.5479       -0.6613\n",
       "2017-04-07  60.0827  56.4369  70.3655  10.2828        0.3879        0.5429"
      ]
     },
     "execution_count": 24,
     "metadata": {},
     "output_type": "execute_result"
    }
   ],
   "source": [
    "df[\"$\\Delta$ EUR\"] = df[\"EUR\"] - df[\"EUR\"].shift(1)\n",
    "df[\"$\\Delta$ USD\"] = df[\"USD\"] - df[\"USD\"].shift(1)\n",
    "df.head()"
   ]
  },
  {
   "cell_type": "markdown",
   "metadata": {},
   "source": [
    "Доступ к строкам, столбцам, фильтрация осуществляется с помощью свойств **.loc**, **.iloc**, **.at**, **.iat** Допустим, мы хотим получить новый `DataFrame`, состоящий из строк, где изменение доллара и евро c прошлого дня отрицательные"
   ]
  },
  {
   "cell_type": "code",
   "execution_count": 25,
   "metadata": {},
   "outputs": [
    {
     "data": {
      "text/plain": [
       "DATE\n",
       "2017-04-01    False\n",
       "2017-04-04    False\n",
       "2017-04-05    False\n",
       "2017-04-06     True\n",
       "2017-04-07    False\n",
       "2017-04-08    False\n",
       "2017-04-11    False\n",
       "2017-04-12     True\n",
       "2017-04-13     True\n",
       "2017-04-14    False\n",
       "2017-04-15     True\n",
       "dtype: bool"
      ]
     },
     "execution_count": 25,
     "metadata": {},
     "output_type": "execute_result"
    }
   ],
   "source": [
    "# тут будет Series из булевский значений с тем же индексом\n",
    "(df[\"$\\Delta$ USD\"] < 0) & (df[\"$\\Delta$ EUR\"] < 0)"
   ]
  },
  {
   "cell_type": "code",
   "execution_count": 26,
   "metadata": {},
   "outputs": [
    {
     "data": {
      "text/html": [
       "<div>\n",
       "<style scoped>\n",
       "    .dataframe tbody tr th:only-of-type {\n",
       "        vertical-align: middle;\n",
       "    }\n",
       "\n",
       "    .dataframe tbody tr th {\n",
       "        vertical-align: top;\n",
       "    }\n",
       "\n",
       "    .dataframe thead th {\n",
       "        text-align: right;\n",
       "    }\n",
       "</style>\n",
       "<table border=\"1\" class=\"dataframe\">\n",
       "  <thead>\n",
       "    <tr style=\"text-align: right;\">\n",
       "      <th></th>\n",
       "      <th>EUR</th>\n",
       "      <th>USD</th>\n",
       "      <th>GBP</th>\n",
       "      <th>GBP-EUR</th>\n",
       "      <th>$\\Delta$ EUR</th>\n",
       "      <th>$\\Delta$ USD</th>\n",
       "    </tr>\n",
       "    <tr>\n",
       "      <th>DATE</th>\n",
       "      <th></th>\n",
       "      <th></th>\n",
       "      <th></th>\n",
       "      <th></th>\n",
       "      <th></th>\n",
       "      <th></th>\n",
       "    </tr>\n",
       "  </thead>\n",
       "  <tbody>\n",
       "    <tr>\n",
       "      <th>2017-04-06</th>\n",
       "      <td>59.6948</td>\n",
       "      <td>55.8940</td>\n",
       "      <td>69.4986</td>\n",
       "      <td>9.8038</td>\n",
       "      <td>-0.5479</td>\n",
       "      <td>-0.6613</td>\n",
       "    </tr>\n",
       "    <tr>\n",
       "      <th>2017-04-12</th>\n",
       "      <td>60.3042</td>\n",
       "      <td>56.9552</td>\n",
       "      <td>70.7384</td>\n",
       "      <td>10.4342</td>\n",
       "      <td>-0.4427</td>\n",
       "      <td>-0.4344</td>\n",
       "    </tr>\n",
       "    <tr>\n",
       "      <th>2017-04-13</th>\n",
       "      <td>60.2631</td>\n",
       "      <td>56.7556</td>\n",
       "      <td>70.9502</td>\n",
       "      <td>10.6871</td>\n",
       "      <td>-0.0411</td>\n",
       "      <td>-0.1996</td>\n",
       "    </tr>\n",
       "    <tr>\n",
       "      <th>2017-04-15</th>\n",
       "      <td>59.7791</td>\n",
       "      <td>56.2945</td>\n",
       "      <td>70.4413</td>\n",
       "      <td>10.6622</td>\n",
       "      <td>-0.5076</td>\n",
       "      <td>-0.3074</td>\n",
       "    </tr>\n",
       "  </tbody>\n",
       "</table>\n",
       "</div>"
      ],
      "text/plain": [
       "                EUR      USD      GBP  GBP-EUR  $\\Delta$ EUR  $\\Delta$ USD\n",
       "DATE                                                                      \n",
       "2017-04-06  59.6948  55.8940  69.4986   9.8038       -0.5479       -0.6613\n",
       "2017-04-12  60.3042  56.9552  70.7384  10.4342       -0.4427       -0.4344\n",
       "2017-04-13  60.2631  56.7556  70.9502  10.6871       -0.0411       -0.1996\n",
       "2017-04-15  59.7791  56.2945  70.4413  10.6622       -0.5076       -0.3074"
      ]
     },
     "execution_count": 26,
     "metadata": {},
     "output_type": "execute_result"
    }
   ],
   "source": [
    "# передаем его в **.loc**\n",
    "df.loc[(df[\"$\\Delta$ USD\"] < 0) & (df[\"$\\Delta$ EUR\"] < 0)]"
   ]
  },
  {
   "cell_type": "code",
   "execution_count": 27,
   "metadata": {},
   "outputs": [
    {
     "data": {
      "text/html": [
       "<div>\n",
       "<style scoped>\n",
       "    .dataframe tbody tr th:only-of-type {\n",
       "        vertical-align: middle;\n",
       "    }\n",
       "\n",
       "    .dataframe tbody tr th {\n",
       "        vertical-align: top;\n",
       "    }\n",
       "\n",
       "    .dataframe thead th {\n",
       "        text-align: right;\n",
       "    }\n",
       "</style>\n",
       "<table border=\"1\" class=\"dataframe\">\n",
       "  <thead>\n",
       "    <tr style=\"text-align: right;\">\n",
       "      <th></th>\n",
       "      <th>EUR</th>\n",
       "      <th>USD</th>\n",
       "    </tr>\n",
       "    <tr>\n",
       "      <th>DATE</th>\n",
       "      <th></th>\n",
       "      <th></th>\n",
       "    </tr>\n",
       "  </thead>\n",
       "  <tbody>\n",
       "    <tr>\n",
       "      <th>2017-04-06</th>\n",
       "      <td>59.6948</td>\n",
       "      <td>55.8940</td>\n",
       "    </tr>\n",
       "    <tr>\n",
       "      <th>2017-04-12</th>\n",
       "      <td>60.3042</td>\n",
       "      <td>56.9552</td>\n",
       "    </tr>\n",
       "    <tr>\n",
       "      <th>2017-04-13</th>\n",
       "      <td>60.2631</td>\n",
       "      <td>56.7556</td>\n",
       "    </tr>\n",
       "    <tr>\n",
       "      <th>2017-04-15</th>\n",
       "      <td>59.7791</td>\n",
       "      <td>56.2945</td>\n",
       "    </tr>\n",
       "  </tbody>\n",
       "</table>\n",
       "</div>"
      ],
      "text/plain": [
       "                EUR      USD\n",
       "DATE                        \n",
       "2017-04-06  59.6948  55.8940\n",
       "2017-04-12  60.3042  56.9552\n",
       "2017-04-13  60.2631  56.7556\n",
       "2017-04-15  59.7791  56.2945"
      ]
     },
     "execution_count": 27,
     "metadata": {},
     "output_type": "execute_result"
    }
   ],
   "source": [
    "# если интересуют отдельные столбцы\n",
    "\n",
    "df.loc[(df[\"$\\Delta$ USD\"] < 0) & (df[\"$\\Delta$ EUR\"] < 0), [\"EUR\", \"USD\"]]"
   ]
  },
  {
   "cell_type": "markdown",
   "metadata": {},
   "source": [
    "Если к данным нужно обратиться по номеру строки, то используется свойство **.iloc**"
   ]
  },
  {
   "cell_type": "code",
   "execution_count": 28,
   "metadata": {
    "collapsed": false,
    "jupyter": {
     "outputs_hidden": false
    }
   },
   "outputs": [
    {
     "data": {
      "text/html": [
       "<div>\n",
       "<style scoped>\n",
       "    .dataframe tbody tr th:only-of-type {\n",
       "        vertical-align: middle;\n",
       "    }\n",
       "\n",
       "    .dataframe tbody tr th {\n",
       "        vertical-align: top;\n",
       "    }\n",
       "\n",
       "    .dataframe thead th {\n",
       "        text-align: right;\n",
       "    }\n",
       "</style>\n",
       "<table border=\"1\" class=\"dataframe\">\n",
       "  <thead>\n",
       "    <tr style=\"text-align: right;\">\n",
       "      <th></th>\n",
       "      <th>EUR</th>\n",
       "      <th>USD</th>\n",
       "      <th>GBP</th>\n",
       "      <th>GBP-EUR</th>\n",
       "      <th>$\\Delta$ EUR</th>\n",
       "      <th>$\\Delta$ USD</th>\n",
       "    </tr>\n",
       "    <tr>\n",
       "      <th>DATE</th>\n",
       "      <th></th>\n",
       "      <th></th>\n",
       "      <th></th>\n",
       "      <th></th>\n",
       "      <th></th>\n",
       "      <th></th>\n",
       "    </tr>\n",
       "  </thead>\n",
       "  <tbody>\n",
       "    <tr>\n",
       "      <th>2017-04-05</th>\n",
       "      <td>60.2427</td>\n",
       "      <td>56.5553</td>\n",
       "      <td>70.3548</td>\n",
       "      <td>10.1121</td>\n",
       "      <td>0.3474</td>\n",
       "      <td>0.4157</td>\n",
       "    </tr>\n",
       "    <tr>\n",
       "      <th>2017-04-06</th>\n",
       "      <td>59.6948</td>\n",
       "      <td>55.8940</td>\n",
       "      <td>69.4986</td>\n",
       "      <td>9.8038</td>\n",
       "      <td>-0.5479</td>\n",
       "      <td>-0.6613</td>\n",
       "    </tr>\n",
       "  </tbody>\n",
       "</table>\n",
       "</div>"
      ],
      "text/plain": [
       "                EUR      USD      GBP  GBP-EUR  $\\Delta$ EUR  $\\Delta$ USD\n",
       "DATE                                                                      \n",
       "2017-04-05  60.2427  56.5553  70.3548  10.1121        0.3474        0.4157\n",
       "2017-04-06  59.6948  55.8940  69.4986   9.8038       -0.5479       -0.6613"
      ]
     },
     "execution_count": 28,
     "metadata": {},
     "output_type": "execute_result"
    }
   ],
   "source": [
    "df.iloc[2:4]"
   ]
  },
  {
   "cell_type": "markdown",
   "metadata": {},
   "source": [
    "Для быстрого обращения к ячейке по номеру:"
   ]
  },
  {
   "cell_type": "code",
   "execution_count": 29,
   "metadata": {},
   "outputs": [
    {
     "data": {
      "text/plain": [
       "np.float64(60.2427)"
      ]
     },
     "execution_count": 29,
     "metadata": {},
     "output_type": "execute_result"
    }
   ],
   "source": [
    "df.iloc[2, 0]"
   ]
  },
  {
   "cell_type": "markdown",
   "metadata": {},
   "source": [
    "Для доступа к ячейке по метке используется **.at**"
   ]
  },
  {
   "cell_type": "code",
   "execution_count": 30,
   "metadata": {},
   "outputs": [
    {
     "data": {
      "text/plain": [
       "np.float64(60.2427)"
      ]
     },
     "execution_count": 30,
     "metadata": {},
     "output_type": "execute_result"
    }
   ],
   "source": [
    "df.at[\"2017-04-05\", \"EUR\"]"
   ]
  },
  {
   "cell_type": "markdown",
   "metadata": {},
   "source": [
    "`Pandas` имеет большое количество функций для подсчет статистических характеристик наших данных. Например, посчитаем коэффицент корреляции между значениями доллара и евро"
   ]
  },
  {
   "cell_type": "code",
   "execution_count": 31,
   "metadata": {
    "collapsed": false,
    "jupyter": {
     "outputs_hidden": false
    }
   },
   "outputs": [
    {
     "data": {
      "text/plain": [
       "np.float64(0.9529946342029497)"
      ]
     },
     "execution_count": 31,
     "metadata": {},
     "output_type": "execute_result"
    }
   ],
   "source": [
    "df[\"USD\"].corr(df[\"EUR\"])"
   ]
  },
  {
   "cell_type": "markdown",
   "metadata": {},
   "source": [
    "Или математическое ожидание курсов валют"
   ]
  },
  {
   "cell_type": "code",
   "execution_count": 32,
   "metadata": {
    "collapsed": false,
    "jupyter": {
     "outputs_hidden": false
    }
   },
   "outputs": [
    {
     "data": {
      "text/plain": [
       "USD    56.536664\n",
       "EUR    60.152264\n",
       "GBP    70.509236\n",
       "dtype: float64"
      ]
     },
     "execution_count": 32,
     "metadata": {},
     "output_type": "execute_result"
    }
   ],
   "source": [
    "df[[\"USD\", \"EUR\", \"GBP\"]].mean()"
   ]
  },
  {
   "cell_type": "markdown",
   "metadata": {},
   "source": [
    "Можно сразу визуализировать наши данные, с помощью специальных функций (используется библиотека `matplotlib`)"
   ]
  },
  {
   "cell_type": "markdown",
   "metadata": {},
   "source": [
    "### Примеры"
   ]
  },
  {
   "cell_type": "code",
   "execution_count": 33,
   "metadata": {},
   "outputs": [
    {
     "data": {
      "text/html": [
       "<div>\n",
       "<style scoped>\n",
       "    .dataframe tbody tr th:only-of-type {\n",
       "        vertical-align: middle;\n",
       "    }\n",
       "\n",
       "    .dataframe tbody tr th {\n",
       "        vertical-align: top;\n",
       "    }\n",
       "\n",
       "    .dataframe thead th {\n",
       "        text-align: right;\n",
       "    }\n",
       "</style>\n",
       "<table border=\"1\" class=\"dataframe\">\n",
       "  <thead>\n",
       "    <tr style=\"text-align: right;\">\n",
       "      <th></th>\n",
       "      <th>EUR</th>\n",
       "      <th>USD</th>\n",
       "      <th>GBP</th>\n",
       "    </tr>\n",
       "    <tr>\n",
       "      <th>DATE</th>\n",
       "      <th></th>\n",
       "      <th></th>\n",
       "      <th></th>\n",
       "    </tr>\n",
       "  </thead>\n",
       "  <tbody>\n",
       "    <tr>\n",
       "      <th>2017-04-01</th>\n",
       "      <td>59.8107</td>\n",
       "      <td>55.9606</td>\n",
       "      <td>69.7605</td>\n",
       "    </tr>\n",
       "    <tr>\n",
       "      <th>2017-04-04</th>\n",
       "      <td>59.8953</td>\n",
       "      <td>56.1396</td>\n",
       "      <td>70.3429</td>\n",
       "    </tr>\n",
       "    <tr>\n",
       "      <th>2017-04-05</th>\n",
       "      <td>60.2427</td>\n",
       "      <td>56.5553</td>\n",
       "      <td>70.3548</td>\n",
       "    </tr>\n",
       "  </tbody>\n",
       "</table>\n",
       "</div>"
      ],
      "text/plain": [
       "                EUR      USD      GBP\n",
       "DATE                                 \n",
       "2017-04-01  59.8107  55.9606  69.7605\n",
       "2017-04-04  59.8953  56.1396  70.3429\n",
       "2017-04-05  60.2427  56.5553  70.3548"
      ]
     },
     "execution_count": 33,
     "metadata": {},
     "output_type": "execute_result"
    }
   ],
   "source": [
    "df = pd.read_csv(\"data/currencies.csv\", index_col=0, header=0, parse_dates=[0])\n",
    "df.head(3)"
   ]
  },
  {
   "cell_type": "code",
   "execution_count": 34,
   "metadata": {},
   "outputs": [
    {
     "data": {
      "text/plain": [
       "EUR    60.2427\n",
       "USD    56.5553\n",
       "GBP    70.3548\n",
       "Name: 2017-04-05 00:00:00, dtype: float64"
      ]
     },
     "execution_count": 34,
     "metadata": {},
     "output_type": "execute_result"
    }
   ],
   "source": [
    "# отдельная строка\n",
    "df.loc[\"2017-04-05\", :]"
   ]
  },
  {
   "cell_type": "code",
   "execution_count": 35,
   "metadata": {},
   "outputs": [
    {
     "data": {
      "text/plain": [
       "DATE\n",
       "2017-04-01    55.9606\n",
       "2017-04-04    56.1396\n",
       "2017-04-05    56.5553\n",
       "2017-04-06    55.8940\n",
       "2017-04-07    56.4369\n",
       "2017-04-08    56.9201\n",
       "2017-04-11    57.3896\n",
       "2017-04-12    56.9552\n",
       "2017-04-13    56.7556\n",
       "2017-04-14    56.6019\n",
       "2017-04-15    56.2945\n",
       "Name: USD, dtype: float64"
      ]
     },
     "execution_count": 35,
     "metadata": {},
     "output_type": "execute_result"
    }
   ],
   "source": [
    "# отдельный столбец\n",
    "df.loc[:, \"USD\"]\n",
    "# или\n",
    "df[\"USD\"]"
   ]
  },
  {
   "cell_type": "code",
   "execution_count": 36,
   "metadata": {},
   "outputs": [
    {
     "data": {
      "text/html": [
       "<div>\n",
       "<style scoped>\n",
       "    .dataframe tbody tr th:only-of-type {\n",
       "        vertical-align: middle;\n",
       "    }\n",
       "\n",
       "    .dataframe tbody tr th {\n",
       "        vertical-align: top;\n",
       "    }\n",
       "\n",
       "    .dataframe thead th {\n",
       "        text-align: right;\n",
       "    }\n",
       "</style>\n",
       "<table border=\"1\" class=\"dataframe\">\n",
       "  <thead>\n",
       "    <tr style=\"text-align: right;\">\n",
       "      <th></th>\n",
       "      <th>EUR</th>\n",
       "      <th>USD</th>\n",
       "      <th>GBP</th>\n",
       "    </tr>\n",
       "    <tr>\n",
       "      <th>DATE</th>\n",
       "      <th></th>\n",
       "      <th></th>\n",
       "      <th></th>\n",
       "    </tr>\n",
       "  </thead>\n",
       "  <tbody>\n",
       "    <tr>\n",
       "      <th>2017-04-05</th>\n",
       "      <td>60.2427</td>\n",
       "      <td>56.5553</td>\n",
       "      <td>70.3548</td>\n",
       "    </tr>\n",
       "    <tr>\n",
       "      <th>2017-04-06</th>\n",
       "      <td>59.6948</td>\n",
       "      <td>55.8940</td>\n",
       "      <td>69.4986</td>\n",
       "    </tr>\n",
       "  </tbody>\n",
       "</table>\n",
       "</div>"
      ],
      "text/plain": [
       "                EUR      USD      GBP\n",
       "DATE                                 \n",
       "2017-04-05  60.2427  56.5553  70.3548\n",
       "2017-04-06  59.6948  55.8940  69.4986"
      ]
     },
     "execution_count": 36,
     "metadata": {},
     "output_type": "execute_result"
    }
   ],
   "source": [
    "# несколько строк\n",
    "df.loc[[\"2017-04-05\", \"2017-04-06\"]]"
   ]
  },
  {
   "cell_type": "code",
   "execution_count": 37,
   "metadata": {},
   "outputs": [
    {
     "data": {
      "text/html": [
       "<div>\n",
       "<style scoped>\n",
       "    .dataframe tbody tr th:only-of-type {\n",
       "        vertical-align: middle;\n",
       "    }\n",
       "\n",
       "    .dataframe tbody tr th {\n",
       "        vertical-align: top;\n",
       "    }\n",
       "\n",
       "    .dataframe thead th {\n",
       "        text-align: right;\n",
       "    }\n",
       "</style>\n",
       "<table border=\"1\" class=\"dataframe\">\n",
       "  <thead>\n",
       "    <tr style=\"text-align: right;\">\n",
       "      <th></th>\n",
       "      <th>USD</th>\n",
       "      <th>EUR</th>\n",
       "    </tr>\n",
       "    <tr>\n",
       "      <th>DATE</th>\n",
       "      <th></th>\n",
       "      <th></th>\n",
       "    </tr>\n",
       "  </thead>\n",
       "  <tbody>\n",
       "    <tr>\n",
       "      <th>2017-04-01</th>\n",
       "      <td>55.9606</td>\n",
       "      <td>59.8107</td>\n",
       "    </tr>\n",
       "    <tr>\n",
       "      <th>2017-04-04</th>\n",
       "      <td>56.1396</td>\n",
       "      <td>59.8953</td>\n",
       "    </tr>\n",
       "    <tr>\n",
       "      <th>2017-04-05</th>\n",
       "      <td>56.5553</td>\n",
       "      <td>60.2427</td>\n",
       "    </tr>\n",
       "    <tr>\n",
       "      <th>2017-04-06</th>\n",
       "      <td>55.8940</td>\n",
       "      <td>59.6948</td>\n",
       "    </tr>\n",
       "    <tr>\n",
       "      <th>2017-04-07</th>\n",
       "      <td>56.4369</td>\n",
       "      <td>60.0827</td>\n",
       "    </tr>\n",
       "    <tr>\n",
       "      <th>2017-04-08</th>\n",
       "      <td>56.9201</td>\n",
       "      <td>60.5687</td>\n",
       "    </tr>\n",
       "    <tr>\n",
       "      <th>2017-04-11</th>\n",
       "      <td>57.3896</td>\n",
       "      <td>60.7469</td>\n",
       "    </tr>\n",
       "    <tr>\n",
       "      <th>2017-04-12</th>\n",
       "      <td>56.9552</td>\n",
       "      <td>60.3042</td>\n",
       "    </tr>\n",
       "    <tr>\n",
       "      <th>2017-04-13</th>\n",
       "      <td>56.7556</td>\n",
       "      <td>60.2631</td>\n",
       "    </tr>\n",
       "    <tr>\n",
       "      <th>2017-04-14</th>\n",
       "      <td>56.6019</td>\n",
       "      <td>60.2867</td>\n",
       "    </tr>\n",
       "    <tr>\n",
       "      <th>2017-04-15</th>\n",
       "      <td>56.2945</td>\n",
       "      <td>59.7791</td>\n",
       "    </tr>\n",
       "  </tbody>\n",
       "</table>\n",
       "</div>"
      ],
      "text/plain": [
       "                USD      EUR\n",
       "DATE                        \n",
       "2017-04-01  55.9606  59.8107\n",
       "2017-04-04  56.1396  59.8953\n",
       "2017-04-05  56.5553  60.2427\n",
       "2017-04-06  55.8940  59.6948\n",
       "2017-04-07  56.4369  60.0827\n",
       "2017-04-08  56.9201  60.5687\n",
       "2017-04-11  57.3896  60.7469\n",
       "2017-04-12  56.9552  60.3042\n",
       "2017-04-13  56.7556  60.2631\n",
       "2017-04-14  56.6019  60.2867\n",
       "2017-04-15  56.2945  59.7791"
      ]
     },
     "execution_count": 37,
     "metadata": {},
     "output_type": "execute_result"
    }
   ],
   "source": [
    "# несколько столбцов\n",
    "df.loc[:, [\"USD\", \"EUR\"]]\n",
    "# или\n",
    "df[[\"USD\", \"EUR\"]]"
   ]
  },
  {
   "cell_type": "code",
   "execution_count": 38,
   "metadata": {},
   "outputs": [
    {
     "data": {
      "text/html": [
       "<div>\n",
       "<style scoped>\n",
       "    .dataframe tbody tr th:only-of-type {\n",
       "        vertical-align: middle;\n",
       "    }\n",
       "\n",
       "    .dataframe tbody tr th {\n",
       "        vertical-align: top;\n",
       "    }\n",
       "\n",
       "    .dataframe thead th {\n",
       "        text-align: right;\n",
       "    }\n",
       "</style>\n",
       "<table border=\"1\" class=\"dataframe\">\n",
       "  <thead>\n",
       "    <tr style=\"text-align: right;\">\n",
       "      <th></th>\n",
       "      <th>USD</th>\n",
       "      <th>EUR</th>\n",
       "    </tr>\n",
       "    <tr>\n",
       "      <th>DATE</th>\n",
       "      <th></th>\n",
       "      <th></th>\n",
       "    </tr>\n",
       "  </thead>\n",
       "  <tbody>\n",
       "    <tr>\n",
       "      <th>2017-04-05</th>\n",
       "      <td>56.5553</td>\n",
       "      <td>60.2427</td>\n",
       "    </tr>\n",
       "    <tr>\n",
       "      <th>2017-04-06</th>\n",
       "      <td>55.8940</td>\n",
       "      <td>59.6948</td>\n",
       "    </tr>\n",
       "    <tr>\n",
       "      <th>2017-04-07</th>\n",
       "      <td>56.4369</td>\n",
       "      <td>60.0827</td>\n",
       "    </tr>\n",
       "    <tr>\n",
       "      <th>2017-04-08</th>\n",
       "      <td>56.9201</td>\n",
       "      <td>60.5687</td>\n",
       "    </tr>\n",
       "  </tbody>\n",
       "</table>\n",
       "</div>"
      ],
      "text/plain": [
       "                USD      EUR\n",
       "DATE                        \n",
       "2017-04-05  56.5553  60.2427\n",
       "2017-04-06  55.8940  59.6948\n",
       "2017-04-07  56.4369  60.0827\n",
       "2017-04-08  56.9201  60.5687"
      ]
     },
     "execution_count": 38,
     "metadata": {},
     "output_type": "execute_result"
    }
   ],
   "source": [
    "# набор строк и столбцов из диапазона\n",
    "df.loc[\"2017-04-05\":\"2017-04-08\", [\"USD\", \"EUR\"]]"
   ]
  },
  {
   "cell_type": "code",
   "execution_count": 39,
   "metadata": {},
   "outputs": [
    {
     "data": {
      "text/html": [
       "<div>\n",
       "<style scoped>\n",
       "    .dataframe tbody tr th:only-of-type {\n",
       "        vertical-align: middle;\n",
       "    }\n",
       "\n",
       "    .dataframe tbody tr th {\n",
       "        vertical-align: top;\n",
       "    }\n",
       "\n",
       "    .dataframe thead th {\n",
       "        text-align: right;\n",
       "    }\n",
       "</style>\n",
       "<table border=\"1\" class=\"dataframe\">\n",
       "  <thead>\n",
       "    <tr style=\"text-align: right;\">\n",
       "      <th></th>\n",
       "      <th>EUR</th>\n",
       "      <th>USD</th>\n",
       "      <th>GBP</th>\n",
       "    </tr>\n",
       "    <tr>\n",
       "      <th>DATE</th>\n",
       "      <th></th>\n",
       "      <th></th>\n",
       "      <th></th>\n",
       "    </tr>\n",
       "  </thead>\n",
       "  <tbody>\n",
       "    <tr>\n",
       "      <th>2017-04-08</th>\n",
       "      <td>60.5687</td>\n",
       "      <td>56.9201</td>\n",
       "      <td>70.9281</td>\n",
       "    </tr>\n",
       "    <tr>\n",
       "      <th>2017-04-11</th>\n",
       "      <td>60.7469</td>\n",
       "      <td>57.3896</td>\n",
       "      <td>71.1746</td>\n",
       "    </tr>\n",
       "    <tr>\n",
       "      <th>2017-04-12</th>\n",
       "      <td>60.3042</td>\n",
       "      <td>56.9552</td>\n",
       "      <td>70.7384</td>\n",
       "    </tr>\n",
       "  </tbody>\n",
       "</table>\n",
       "</div>"
      ],
      "text/plain": [
       "                EUR      USD      GBP\n",
       "DATE                                 \n",
       "2017-04-08  60.5687  56.9201  70.9281\n",
       "2017-04-11  60.7469  57.3896  71.1746\n",
       "2017-04-12  60.3042  56.9552  70.7384"
      ]
     },
     "execution_count": 39,
     "metadata": {},
     "output_type": "execute_result"
    }
   ],
   "source": [
    "# набор строк по условию\n",
    "df.loc[df[\"EUR\"] > 60.3]\n",
    "# или\n",
    "df[df[\"EUR\"] > 60.3]"
   ]
  },
  {
   "cell_type": "markdown",
   "metadata": {},
   "source": [
    "### Группировка и агрегация\n",
    "\n",
    "Процесс объединения данных в группы и трансформации/агрегации данных в группах"
   ]
  },
  {
   "cell_type": "code",
   "execution_count": 40,
   "metadata": {},
   "outputs": [
    {
     "data": {
      "text/html": [
       "<div>\n",
       "<style scoped>\n",
       "    .dataframe tbody tr th:only-of-type {\n",
       "        vertical-align: middle;\n",
       "    }\n",
       "\n",
       "    .dataframe tbody tr th {\n",
       "        vertical-align: top;\n",
       "    }\n",
       "\n",
       "    .dataframe thead th {\n",
       "        text-align: right;\n",
       "    }\n",
       "</style>\n",
       "<table border=\"1\" class=\"dataframe\">\n",
       "  <thead>\n",
       "    <tr style=\"text-align: right;\">\n",
       "      <th></th>\n",
       "      <th>col1</th>\n",
       "      <th>col2</th>\n",
       "      <th>col3</th>\n",
       "    </tr>\n",
       "  </thead>\n",
       "  <tbody>\n",
       "    <tr>\n",
       "      <th>0</th>\n",
       "      <td>a</td>\n",
       "      <td>1</td>\n",
       "      <td>0</td>\n",
       "    </tr>\n",
       "    <tr>\n",
       "      <th>1</th>\n",
       "      <td>b</td>\n",
       "      <td>5</td>\n",
       "      <td>1</td>\n",
       "    </tr>\n",
       "    <tr>\n",
       "      <th>2</th>\n",
       "      <td>a</td>\n",
       "      <td>7</td>\n",
       "      <td>2</td>\n",
       "    </tr>\n",
       "    <tr>\n",
       "      <th>3</th>\n",
       "      <td>a</td>\n",
       "      <td>1</td>\n",
       "      <td>3</td>\n",
       "    </tr>\n",
       "    <tr>\n",
       "      <th>4</th>\n",
       "      <td>b</td>\n",
       "      <td>2</td>\n",
       "      <td>4</td>\n",
       "    </tr>\n",
       "  </tbody>\n",
       "</table>\n",
       "</div>"
      ],
      "text/plain": [
       "  col1  col2  col3\n",
       "0    a     1     0\n",
       "1    b     5     1\n",
       "2    a     7     2\n",
       "3    a     1     3\n",
       "4    b     2     4"
      ]
     },
     "execution_count": 40,
     "metadata": {},
     "output_type": "execute_result"
    }
   ],
   "source": [
    "df = pd.DataFrame({\"col1\": [\"a\", \"b\", \"a\", \"a\", \"b\"], \"col2\": [1, 5, 7, 1, 2], \"col3\": range(5)})\n",
    "df"
   ]
  },
  {
   "cell_type": "markdown",
   "metadata": {},
   "source": [
    "Сгруппируем `DataFrame` по столбцу `col1` и подсчитаем сумму эелементов"
   ]
  },
  {
   "cell_type": "code",
   "execution_count": 41,
   "metadata": {},
   "outputs": [
    {
     "data": {
      "text/html": [
       "<div>\n",
       "<style scoped>\n",
       "    .dataframe tbody tr th:only-of-type {\n",
       "        vertical-align: middle;\n",
       "    }\n",
       "\n",
       "    .dataframe tbody tr th {\n",
       "        vertical-align: top;\n",
       "    }\n",
       "\n",
       "    .dataframe thead th {\n",
       "        text-align: right;\n",
       "    }\n",
       "</style>\n",
       "<table border=\"1\" class=\"dataframe\">\n",
       "  <thead>\n",
       "    <tr style=\"text-align: right;\">\n",
       "      <th></th>\n",
       "      <th>col2</th>\n",
       "      <th>col3</th>\n",
       "    </tr>\n",
       "    <tr>\n",
       "      <th>col1</th>\n",
       "      <th></th>\n",
       "      <th></th>\n",
       "    </tr>\n",
       "  </thead>\n",
       "  <tbody>\n",
       "    <tr>\n",
       "      <th>a</th>\n",
       "      <td>9</td>\n",
       "      <td>5</td>\n",
       "    </tr>\n",
       "    <tr>\n",
       "      <th>b</th>\n",
       "      <td>7</td>\n",
       "      <td>5</td>\n",
       "    </tr>\n",
       "  </tbody>\n",
       "</table>\n",
       "</div>"
      ],
      "text/plain": [
       "      col2  col3\n",
       "col1            \n",
       "a        9     5\n",
       "b        7     5"
      ]
     },
     "execution_count": 41,
     "metadata": {},
     "output_type": "execute_result"
    }
   ],
   "source": [
    "df.groupby(\"col1\").sum() # .mean() .var() .cumsum()"
   ]
  },
  {
   "cell_type": "markdown",
   "metadata": {},
   "source": [
    "по двум колонкам"
   ]
  },
  {
   "cell_type": "code",
   "execution_count": 42,
   "metadata": {},
   "outputs": [
    {
     "data": {
      "text/html": [
       "<div>\n",
       "<style scoped>\n",
       "    .dataframe tbody tr th:only-of-type {\n",
       "        vertical-align: middle;\n",
       "    }\n",
       "\n",
       "    .dataframe tbody tr th {\n",
       "        vertical-align: top;\n",
       "    }\n",
       "\n",
       "    .dataframe thead th {\n",
       "        text-align: right;\n",
       "    }\n",
       "</style>\n",
       "<table border=\"1\" class=\"dataframe\">\n",
       "  <thead>\n",
       "    <tr style=\"text-align: right;\">\n",
       "      <th></th>\n",
       "      <th></th>\n",
       "      <th>col3</th>\n",
       "    </tr>\n",
       "    <tr>\n",
       "      <th>col1</th>\n",
       "      <th>col2</th>\n",
       "      <th></th>\n",
       "    </tr>\n",
       "  </thead>\n",
       "  <tbody>\n",
       "    <tr>\n",
       "      <th rowspan=\"2\" valign=\"top\">a</th>\n",
       "      <th>1</th>\n",
       "      <td>3</td>\n",
       "    </tr>\n",
       "    <tr>\n",
       "      <th>7</th>\n",
       "      <td>2</td>\n",
       "    </tr>\n",
       "    <tr>\n",
       "      <th rowspan=\"2\" valign=\"top\">b</th>\n",
       "      <th>2</th>\n",
       "      <td>4</td>\n",
       "    </tr>\n",
       "    <tr>\n",
       "      <th>5</th>\n",
       "      <td>1</td>\n",
       "    </tr>\n",
       "  </tbody>\n",
       "</table>\n",
       "</div>"
      ],
      "text/plain": [
       "           col3\n",
       "col1 col2      \n",
       "a    1        3\n",
       "     7        2\n",
       "b    2        4\n",
       "     5        1"
      ]
     },
     "execution_count": 42,
     "metadata": {},
     "output_type": "execute_result"
    }
   ],
   "source": [
    "df.groupby([\"col1\", \"col2\"]).sum()"
   ]
  },
  {
   "cell_type": "markdown",
   "metadata": {},
   "source": [
    "можно определить собственную функцию агрегации "
   ]
  },
  {
   "cell_type": "code",
   "execution_count": 43,
   "metadata": {},
   "outputs": [
    {
     "data": {
      "text/html": [
       "<div>\n",
       "<style scoped>\n",
       "    .dataframe tbody tr th:only-of-type {\n",
       "        vertical-align: middle;\n",
       "    }\n",
       "\n",
       "    .dataframe tbody tr th {\n",
       "        vertical-align: top;\n",
       "    }\n",
       "\n",
       "    .dataframe thead th {\n",
       "        text-align: right;\n",
       "    }\n",
       "</style>\n",
       "<table border=\"1\" class=\"dataframe\">\n",
       "  <thead>\n",
       "    <tr style=\"text-align: right;\">\n",
       "      <th></th>\n",
       "      <th>col1</th>\n",
       "      <th>col2</th>\n",
       "      <th>col3</th>\n",
       "    </tr>\n",
       "  </thead>\n",
       "  <tbody>\n",
       "    <tr>\n",
       "      <th>0</th>\n",
       "      <td>a</td>\n",
       "      <td>9</td>\n",
       "      <td>1.666667</td>\n",
       "    </tr>\n",
       "    <tr>\n",
       "      <th>1</th>\n",
       "      <td>b</td>\n",
       "      <td>7</td>\n",
       "      <td>2.500000</td>\n",
       "    </tr>\n",
       "  </tbody>\n",
       "</table>\n",
       "</div>"
      ],
      "text/plain": [
       "  col1  col2      col3\n",
       "0    a     9  1.666667\n",
       "1    b     7  2.500000"
      ]
     },
     "execution_count": 43,
     "metadata": {},
     "output_type": "execute_result"
    }
   ],
   "source": [
    "def our_agg_func(x: pd.Series):\n",
    "    return x.mean()\n",
    "\n",
    "df.groupby(\"col1\", as_index=False).agg({\"col2\": \"sum\", \"col3\": our_agg_func})"
   ]
  },
  {
   "cell_type": "markdown",
   "metadata": {},
   "source": [
    "если отдельные столбцы нужно агрегировать различными способами, то можно применять `pd.NamedAgg`"
   ]
  },
  {
   "cell_type": "code",
   "execution_count": 44,
   "metadata": {},
   "outputs": [
    {
     "data": {
      "text/html": [
       "<div>\n",
       "<style scoped>\n",
       "    .dataframe tbody tr th:only-of-type {\n",
       "        vertical-align: middle;\n",
       "    }\n",
       "\n",
       "    .dataframe tbody tr th {\n",
       "        vertical-align: top;\n",
       "    }\n",
       "\n",
       "    .dataframe thead th {\n",
       "        text-align: right;\n",
       "    }\n",
       "</style>\n",
       "<table border=\"1\" class=\"dataframe\">\n",
       "  <thead>\n",
       "    <tr style=\"text-align: right;\">\n",
       "      <th></th>\n",
       "      <th>col2_min</th>\n",
       "      <th>col2_our</th>\n",
       "      <th>col3_sum</th>\n",
       "    </tr>\n",
       "    <tr>\n",
       "      <th>col1</th>\n",
       "      <th></th>\n",
       "      <th></th>\n",
       "      <th></th>\n",
       "    </tr>\n",
       "  </thead>\n",
       "  <tbody>\n",
       "    <tr>\n",
       "      <th>a</th>\n",
       "      <td>1</td>\n",
       "      <td>3.0</td>\n",
       "      <td>5</td>\n",
       "    </tr>\n",
       "    <tr>\n",
       "      <th>b</th>\n",
       "      <td>2</td>\n",
       "      <td>3.5</td>\n",
       "      <td>5</td>\n",
       "    </tr>\n",
       "  </tbody>\n",
       "</table>\n",
       "</div>"
      ],
      "text/plain": [
       "      col2_min  col2_our  col3_sum\n",
       "col1                              \n",
       "a            1       3.0         5\n",
       "b            2       3.5         5"
      ]
     },
     "execution_count": 44,
     "metadata": {},
     "output_type": "execute_result"
    }
   ],
   "source": [
    "df.groupby(\"col1\").agg(\n",
    "    col2_min=pd.NamedAgg(column=\"col2\", aggfunc=\"min\"),\n",
    "    col2_our=pd.NamedAgg(column=\"col2\", aggfunc=our_agg_func),\n",
    "    col3_sum=pd.NamedAgg(column=\"col3\", aggfunc=\"sum\")\n",
    ")"
   ]
  },
  {
   "cell_type": "markdown",
   "metadata": {},
   "source": [
    "Результат группировки для конкретного значения"
   ]
  },
  {
   "cell_type": "code",
   "execution_count": 45,
   "metadata": {},
   "outputs": [
    {
     "data": {
      "text/html": [
       "<div>\n",
       "<style scoped>\n",
       "    .dataframe tbody tr th:only-of-type {\n",
       "        vertical-align: middle;\n",
       "    }\n",
       "\n",
       "    .dataframe tbody tr th {\n",
       "        vertical-align: top;\n",
       "    }\n",
       "\n",
       "    .dataframe thead th {\n",
       "        text-align: right;\n",
       "    }\n",
       "</style>\n",
       "<table border=\"1\" class=\"dataframe\">\n",
       "  <thead>\n",
       "    <tr style=\"text-align: right;\">\n",
       "      <th></th>\n",
       "      <th>col1</th>\n",
       "      <th>col2</th>\n",
       "      <th>col3</th>\n",
       "    </tr>\n",
       "  </thead>\n",
       "  <tbody>\n",
       "    <tr>\n",
       "      <th>0</th>\n",
       "      <td>a</td>\n",
       "      <td>1</td>\n",
       "      <td>0</td>\n",
       "    </tr>\n",
       "    <tr>\n",
       "      <th>2</th>\n",
       "      <td>a</td>\n",
       "      <td>7</td>\n",
       "      <td>2</td>\n",
       "    </tr>\n",
       "    <tr>\n",
       "      <th>3</th>\n",
       "      <td>a</td>\n",
       "      <td>1</td>\n",
       "      <td>3</td>\n",
       "    </tr>\n",
       "  </tbody>\n",
       "</table>\n",
       "</div>"
      ],
      "text/plain": [
       "  col1  col2  col3\n",
       "0    a     1     0\n",
       "2    a     7     2\n",
       "3    a     1     3"
      ]
     },
     "execution_count": 45,
     "metadata": {},
     "output_type": "execute_result"
    }
   ],
   "source": [
    "df.groupby(\"col1\").get_group(\"a\")"
   ]
  },
  {
   "cell_type": "markdown",
   "metadata": {},
   "source": [
    "Данные в группах можно трансформировать, например подсчитать кумулятивную сумму"
   ]
  },
  {
   "cell_type": "code",
   "execution_count": 46,
   "metadata": {},
   "outputs": [
    {
     "data": {
      "text/html": [
       "<div>\n",
       "<style scoped>\n",
       "    .dataframe tbody tr th:only-of-type {\n",
       "        vertical-align: middle;\n",
       "    }\n",
       "\n",
       "    .dataframe tbody tr th {\n",
       "        vertical-align: top;\n",
       "    }\n",
       "\n",
       "    .dataframe thead th {\n",
       "        text-align: right;\n",
       "    }\n",
       "</style>\n",
       "<table border=\"1\" class=\"dataframe\">\n",
       "  <thead>\n",
       "    <tr style=\"text-align: right;\">\n",
       "      <th></th>\n",
       "      <th>col1</th>\n",
       "      <th>col2</th>\n",
       "      <th>col3</th>\n",
       "    </tr>\n",
       "  </thead>\n",
       "  <tbody>\n",
       "    <tr>\n",
       "      <th>0</th>\n",
       "      <td>a</td>\n",
       "      <td>1</td>\n",
       "      <td>0</td>\n",
       "    </tr>\n",
       "    <tr>\n",
       "      <th>1</th>\n",
       "      <td>b</td>\n",
       "      <td>5</td>\n",
       "      <td>1</td>\n",
       "    </tr>\n",
       "    <tr>\n",
       "      <th>2</th>\n",
       "      <td>a</td>\n",
       "      <td>7</td>\n",
       "      <td>2</td>\n",
       "    </tr>\n",
       "    <tr>\n",
       "      <th>3</th>\n",
       "      <td>a</td>\n",
       "      <td>1</td>\n",
       "      <td>3</td>\n",
       "    </tr>\n",
       "    <tr>\n",
       "      <th>4</th>\n",
       "      <td>b</td>\n",
       "      <td>2</td>\n",
       "      <td>4</td>\n",
       "    </tr>\n",
       "  </tbody>\n",
       "</table>\n",
       "</div>"
      ],
      "text/plain": [
       "  col1  col2  col3\n",
       "0    a     1     0\n",
       "1    b     5     1\n",
       "2    a     7     2\n",
       "3    a     1     3\n",
       "4    b     2     4"
      ]
     },
     "execution_count": 46,
     "metadata": {},
     "output_type": "execute_result"
    }
   ],
   "source": [
    "df"
   ]
  },
  {
   "cell_type": "code",
   "execution_count": 47,
   "metadata": {},
   "outputs": [
    {
     "data": {
      "text/html": [
       "<div>\n",
       "<style scoped>\n",
       "    .dataframe tbody tr th:only-of-type {\n",
       "        vertical-align: middle;\n",
       "    }\n",
       "\n",
       "    .dataframe tbody tr th {\n",
       "        vertical-align: top;\n",
       "    }\n",
       "\n",
       "    .dataframe thead th {\n",
       "        text-align: right;\n",
       "    }\n",
       "</style>\n",
       "<table border=\"1\" class=\"dataframe\">\n",
       "  <thead>\n",
       "    <tr style=\"text-align: right;\">\n",
       "      <th></th>\n",
       "      <th>col2</th>\n",
       "      <th>col3</th>\n",
       "    </tr>\n",
       "  </thead>\n",
       "  <tbody>\n",
       "    <tr>\n",
       "      <th>0</th>\n",
       "      <td>1</td>\n",
       "      <td>0</td>\n",
       "    </tr>\n",
       "    <tr>\n",
       "      <th>1</th>\n",
       "      <td>5</td>\n",
       "      <td>1</td>\n",
       "    </tr>\n",
       "    <tr>\n",
       "      <th>2</th>\n",
       "      <td>8</td>\n",
       "      <td>2</td>\n",
       "    </tr>\n",
       "    <tr>\n",
       "      <th>3</th>\n",
       "      <td>9</td>\n",
       "      <td>5</td>\n",
       "    </tr>\n",
       "    <tr>\n",
       "      <th>4</th>\n",
       "      <td>7</td>\n",
       "      <td>5</td>\n",
       "    </tr>\n",
       "  </tbody>\n",
       "</table>\n",
       "</div>"
      ],
      "text/plain": [
       "   col2  col3\n",
       "0     1     0\n",
       "1     5     1\n",
       "2     8     2\n",
       "3     9     5\n",
       "4     7     5"
      ]
     },
     "execution_count": 47,
     "metadata": {},
     "output_type": "execute_result"
    }
   ],
   "source": [
    "df.groupby(\"col1\").cumsum()"
   ]
  },
  {
   "cell_type": "markdown",
   "metadata": {},
   "source": [
    "### Визуализация"
   ]
  },
  {
   "cell_type": "code",
   "execution_count": 48,
   "metadata": {
    "collapsed": false,
    "jupyter": {
     "outputs_hidden": false
    }
   },
   "outputs": [
    {
     "data": {
      "text/plain": [
       "<Axes: xlabel='DATE'>"
      ]
     },
     "execution_count": 48,
     "metadata": {},
     "output_type": "execute_result"
    },
    {
     "data": {
      "image/png": "[encoded data removed]",
      "text/plain": [
       "<Figure size 640x480 with 1 Axes>"
      ]
     },
     "metadata": {},
     "output_type": "display_data"
    }
   ],
   "source": [
    "%matplotlib inline\n",
    "\n",
    "import seaborn as sns\n",
    "sns.set_theme()\n",
    "\n",
    "df = pd.read_csv(\"data/currencies.csv\", index_col=0, header=0, parse_dates=[0])\n",
    "df[[\"USD\", \"EUR\"]].plot()"
   ]
  },
  {
   "cell_type": "code",
   "execution_count": 49,
   "metadata": {},
   "outputs": [
    {
     "data": {
      "text/plain": [
       "a         Axes(0.1,0.15;0.363636x0.75)\n",
       "b    Axes(0.536364,0.15;0.363636x0.75)\n",
       "dtype: object"
      ]
     },
     "execution_count": 49,
     "metadata": {},
     "output_type": "execute_result"
    },
    {
     "data": {
      "image/png": "[encoded data removed]",
      "text/plain": [
       "<Figure size 640x480 with 2 Axes>"
      ]
     },
     "metadata": {},
     "output_type": "display_data"
    }
   ],
   "source": [
    "df = pd.DataFrame({\"col1\": [\"a\", \"b\", \"a\", \"a\", \"b\"], \"col2\": [1, 5, 7, 1, 2], \"col3\": range(5)})\n",
    "\n",
    "df.groupby(\"col1\").boxplot()"
   ]
  },
  {
   "cell_type": "markdown",
   "metadata": {},
   "source": [
    "### Сохранение"
   ]
  },
  {
   "cell_type": "markdown",
   "metadata": {},
   "source": [
    "`DataFrame` можно сохранить в `CSV`-файл, `Excel`, `parquet` и в другие форматы:\n",
    "\n",
    "> df.to_csv(\"data/curr.csv\")\n",
    "\n",
    "> df.to_excel(\"data/curr.xsl\")\n",
    "\n",
    "> df.to_parquet(\"data/curr.parquet\")"
   ]
  },
  {
   "cell_type": "markdown",
   "metadata": {},
   "source": [
    "### Временные ряды"
   ]
  },
  {
   "cell_type": "markdown",
   "metadata": {},
   "source": [
    "В `Pandas` есть обширный функционал для работы с временными рядами"
   ]
  },
  {
   "cell_type": "code",
   "execution_count": 50,
   "metadata": {},
   "outputs": [
    {
     "data": {
      "text/html": [
       "<div>\n",
       "<style scoped>\n",
       "    .dataframe tbody tr th:only-of-type {\n",
       "        vertical-align: middle;\n",
       "    }\n",
       "\n",
       "    .dataframe tbody tr th {\n",
       "        vertical-align: top;\n",
       "    }\n",
       "\n",
       "    .dataframe thead th {\n",
       "        text-align: right;\n",
       "    }\n",
       "</style>\n",
       "<table border=\"1\" class=\"dataframe\">\n",
       "  <thead>\n",
       "    <tr style=\"text-align: right;\">\n",
       "      <th></th>\n",
       "      <th>EUR</th>\n",
       "      <th>USD</th>\n",
       "    </tr>\n",
       "  </thead>\n",
       "  <tbody>\n",
       "    <tr>\n",
       "      <th>2021-11-11</th>\n",
       "      <td>62.446233</td>\n",
       "      <td>57.912797</td>\n",
       "    </tr>\n",
       "    <tr>\n",
       "      <th>2021-11-12</th>\n",
       "      <td>60.899840</td>\n",
       "      <td>61.865748</td>\n",
       "    </tr>\n",
       "    <tr>\n",
       "      <th>2021-11-13</th>\n",
       "      <td>60.112627</td>\n",
       "      <td>60.527777</td>\n",
       "    </tr>\n",
       "    <tr>\n",
       "      <th>2021-11-14</th>\n",
       "      <td>61.158680</td>\n",
       "      <td>59.327114</td>\n",
       "    </tr>\n",
       "    <tr>\n",
       "      <th>2021-11-15</th>\n",
       "      <td>59.602597</td>\n",
       "      <td>58.663637</td>\n",
       "    </tr>\n",
       "    <tr>\n",
       "      <th>...</th>\n",
       "      <td>...</td>\n",
       "      <td>...</td>\n",
       "    </tr>\n",
       "    <tr>\n",
       "      <th>2022-11-06</th>\n",
       "      <td>36.021617</td>\n",
       "      <td>75.550556</td>\n",
       "    </tr>\n",
       "    <tr>\n",
       "      <th>2022-11-07</th>\n",
       "      <td>40.271281</td>\n",
       "      <td>72.007235</td>\n",
       "    </tr>\n",
       "    <tr>\n",
       "      <th>2022-11-08</th>\n",
       "      <td>41.252441</td>\n",
       "      <td>73.782284</td>\n",
       "    </tr>\n",
       "    <tr>\n",
       "      <th>2022-11-09</th>\n",
       "      <td>39.770674</td>\n",
       "      <td>72.775294</td>\n",
       "    </tr>\n",
       "    <tr>\n",
       "      <th>2022-11-10</th>\n",
       "      <td>39.802039</td>\n",
       "      <td>72.665636</td>\n",
       "    </tr>\n",
       "  </tbody>\n",
       "</table>\n",
       "<p>365 rows × 2 columns</p>\n",
       "</div>"
      ],
      "text/plain": [
       "                  EUR        USD\n",
       "2021-11-11  62.446233  57.912797\n",
       "2021-11-12  60.899840  61.865748\n",
       "2021-11-13  60.112627  60.527777\n",
       "2021-11-14  61.158680  59.327114\n",
       "2021-11-15  59.602597  58.663637\n",
       "...               ...        ...\n",
       "2022-11-06  36.021617  75.550556\n",
       "2022-11-07  40.271281  72.007235\n",
       "2022-11-08  41.252441  73.782284\n",
       "2022-11-09  39.770674  72.775294\n",
       "2022-11-10  39.802039  72.665636\n",
       "\n",
       "[365 rows x 2 columns]"
      ]
     },
     "execution_count": 50,
     "metadata": {},
     "output_type": "execute_result"
    }
   ],
   "source": [
    "import numpy as np\n",
    "l = 365\n",
    "\n",
    "eur = 60. + np.random.normal(0.0, 2., l).cumsum()\n",
    "usd = 55. + np.random.normal(0.0, 2., l).cumsum()\n",
    "\n",
    "df = pd.DataFrame({\n",
    "            \"EUR\": eur,\n",
    "            \"USD\": usd\n",
    "        }, \n",
    "        index=pd.date_range(\"2021-11-11\", periods=l, freq=\"1D\")\n",
    ")\n",
    "\n",
    "df"
   ]
  },
  {
   "cell_type": "markdown",
   "metadata": {},
   "source": [
    "подсчитать средние по окну в 7 дней"
   ]
  },
  {
   "cell_type": "code",
   "execution_count": 51,
   "metadata": {},
   "outputs": [
    {
     "data": {
      "text/html": [
       "<div>\n",
       "<style scoped>\n",
       "    .dataframe tbody tr th:only-of-type {\n",
       "        vertical-align: middle;\n",
       "    }\n",
       "\n",
       "    .dataframe tbody tr th {\n",
       "        vertical-align: top;\n",
       "    }\n",
       "\n",
       "    .dataframe thead th {\n",
       "        text-align: right;\n",
       "    }\n",
       "</style>\n",
       "<table border=\"1\" class=\"dataframe\">\n",
       "  <thead>\n",
       "    <tr style=\"text-align: right;\">\n",
       "      <th></th>\n",
       "      <th>EUR</th>\n",
       "      <th>USD</th>\n",
       "    </tr>\n",
       "  </thead>\n",
       "  <tbody>\n",
       "    <tr>\n",
       "      <th>2021-11-11</th>\n",
       "      <td>62.446233</td>\n",
       "      <td>57.912797</td>\n",
       "    </tr>\n",
       "    <tr>\n",
       "      <th>2021-11-12</th>\n",
       "      <td>61.673036</td>\n",
       "      <td>59.889272</td>\n",
       "    </tr>\n",
       "    <tr>\n",
       "      <th>2021-11-13</th>\n",
       "      <td>61.152900</td>\n",
       "      <td>60.102107</td>\n",
       "    </tr>\n",
       "    <tr>\n",
       "      <th>2021-11-14</th>\n",
       "      <td>61.154345</td>\n",
       "      <td>59.908359</td>\n",
       "    </tr>\n",
       "    <tr>\n",
       "      <th>2021-11-15</th>\n",
       "      <td>60.843995</td>\n",
       "      <td>59.659414</td>\n",
       "    </tr>\n",
       "    <tr>\n",
       "      <th>...</th>\n",
       "      <td>...</td>\n",
       "      <td>...</td>\n",
       "    </tr>\n",
       "    <tr>\n",
       "      <th>2022-11-06</th>\n",
       "      <td>36.186949</td>\n",
       "      <td>75.824901</td>\n",
       "    </tr>\n",
       "    <tr>\n",
       "      <th>2022-11-07</th>\n",
       "      <td>37.176993</td>\n",
       "      <td>75.610996</td>\n",
       "    </tr>\n",
       "    <tr>\n",
       "      <th>2022-11-08</th>\n",
       "      <td>38.263009</td>\n",
       "      <td>75.289037</td>\n",
       "    </tr>\n",
       "    <tr>\n",
       "      <th>2022-11-09</th>\n",
       "      <td>38.966577</td>\n",
       "      <td>74.294528</td>\n",
       "    </tr>\n",
       "    <tr>\n",
       "      <th>2022-11-10</th>\n",
       "      <td>38.985224</td>\n",
       "      <td>73.744353</td>\n",
       "    </tr>\n",
       "  </tbody>\n",
       "</table>\n",
       "<p>365 rows × 2 columns</p>\n",
       "</div>"
      ],
      "text/plain": [
       "                  EUR        USD\n",
       "2021-11-11  62.446233  57.912797\n",
       "2021-11-12  61.673036  59.889272\n",
       "2021-11-13  61.152900  60.102107\n",
       "2021-11-14  61.154345  59.908359\n",
       "2021-11-15  60.843995  59.659414\n",
       "...               ...        ...\n",
       "2022-11-06  36.186949  75.824901\n",
       "2022-11-07  37.176993  75.610996\n",
       "2022-11-08  38.263009  75.289037\n",
       "2022-11-09  38.966577  74.294528\n",
       "2022-11-10  38.985224  73.744353\n",
       "\n",
       "[365 rows x 2 columns]"
      ]
     },
     "execution_count": 51,
     "metadata": {},
     "output_type": "execute_result"
    }
   ],
   "source": [
    "df.rolling(window=\"7D\").mean()"
   ]
  },
  {
   "cell_type": "markdown",
   "metadata": {},
   "source": [
    "# Polars"
   ]
  },
  {
   "cell_type": "markdown",
   "metadata": {},
   "source": [
    "`Polars` - ещё одна библиотека для работы с концепцией `DataFrame`. Для определенных операций быстрее, проще и выразительнее `Pandas`."
   ]
  },
  {
   "cell_type": "code",
   "execution_count": 61,
   "metadata": {},
   "outputs": [],
   "source": [
    "import polars as pl\n",
    "\n",
    "df_pl = pl.read_csv(\"data/currencies.csv\", try_parse_dates=True)"
   ]
  },
  {
   "cell_type": "code",
   "execution_count": 53,
   "metadata": {},
   "outputs": [
    {
     "data": {
      "text/html": [
       "<div><style>\n",
       ".dataframe > thead > tr,\n",
       ".dataframe > tbody > tr {\n",
       "  text-align: right;\n",
       "  white-space: pre-wrap;\n",
       "}\n",
       "</style>\n",
       "<small>shape: (11, 4)</small><table border=\"1\" class=\"dataframe\"><thead><tr><th>DATE</th><th>EUR</th><th>USD</th><th>GBP</th></tr><tr><td>date</td><td>f64</td><td>f64</td><td>f64</td></tr></thead><tbody><tr><td>2017-04-01</td><td>59.8107</td><td>55.9606</td><td>69.7605</td></tr><tr><td>2017-04-04</td><td>59.8953</td><td>56.1396</td><td>70.3429</td></tr><tr><td>2017-04-05</td><td>60.2427</td><td>56.5553</td><td>70.3548</td></tr><tr><td>2017-04-06</td><td>59.6948</td><td>55.894</td><td>69.4986</td></tr><tr><td>2017-04-07</td><td>60.0827</td><td>56.4369</td><td>70.3655</td></tr><tr><td>&hellip;</td><td>&hellip;</td><td>&hellip;</td><td>&hellip;</td></tr><tr><td>2017-04-11</td><td>60.7469</td><td>57.3896</td><td>71.1746</td></tr><tr><td>2017-04-12</td><td>60.3042</td><td>56.9552</td><td>70.7384</td></tr><tr><td>2017-04-13</td><td>60.2631</td><td>56.7556</td><td>70.9502</td></tr><tr><td>2017-04-14</td><td>60.2867</td><td>56.6019</td><td>71.0467</td></tr><tr><td>2017-04-15</td><td>59.7791</td><td>56.2945</td><td>70.4413</td></tr></tbody></table></div>"
      ],
      "text/plain": [
       "shape: (11, 4)\n",
       "┌────────────┬─────────┬─────────┬─────────┐\n",
       "│ DATE       ┆ EUR     ┆ USD     ┆ GBP     │\n",
       "│ ---        ┆ ---     ┆ ---     ┆ ---     │\n",
       "│ date       ┆ f64     ┆ f64     ┆ f64     │\n",
       "╞════════════╪═════════╪═════════╪═════════╡\n",
       "│ 2017-04-01 ┆ 59.8107 ┆ 55.9606 ┆ 69.7605 │\n",
       "│ 2017-04-04 ┆ 59.8953 ┆ 56.1396 ┆ 70.3429 │\n",
       "│ 2017-04-05 ┆ 60.2427 ┆ 56.5553 ┆ 70.3548 │\n",
       "│ 2017-04-06 ┆ 59.6948 ┆ 55.894  ┆ 69.4986 │\n",
       "│ 2017-04-07 ┆ 60.0827 ┆ 56.4369 ┆ 70.3655 │\n",
       "│ …          ┆ …       ┆ …       ┆ …       │\n",
       "│ 2017-04-11 ┆ 60.7469 ┆ 57.3896 ┆ 71.1746 │\n",
       "│ 2017-04-12 ┆ 60.3042 ┆ 56.9552 ┆ 70.7384 │\n",
       "│ 2017-04-13 ┆ 60.2631 ┆ 56.7556 ┆ 70.9502 │\n",
       "│ 2017-04-14 ┆ 60.2867 ┆ 56.6019 ┆ 71.0467 │\n",
       "│ 2017-04-15 ┆ 59.7791 ┆ 56.2945 ┆ 70.4413 │\n",
       "└────────────┴─────────┴─────────┴─────────┘"
      ]
     },
     "execution_count": 53,
     "metadata": {},
     "output_type": "execute_result"
    }
   ],
   "source": [
    "df_pl"
   ]
  },
  {
   "cell_type": "code",
   "execution_count": 54,
   "metadata": {},
   "outputs": [
    {
     "data": {
      "text/html": [
       "<div><style>\n",
       ".dataframe > thead > tr,\n",
       ".dataframe > tbody > tr {\n",
       "  text-align: right;\n",
       "  white-space: pre-wrap;\n",
       "}\n",
       "</style>\n",
       "<small>shape: (11, 2)</small><table border=\"1\" class=\"dataframe\"><thead><tr><th>EUR</th><th>USD</th></tr><tr><td>f64</td><td>f64</td></tr></thead><tbody><tr><td>59.8107</td><td>55.9606</td></tr><tr><td>59.8953</td><td>56.1396</td></tr><tr><td>60.2427</td><td>56.5553</td></tr><tr><td>59.6948</td><td>55.894</td></tr><tr><td>60.0827</td><td>56.4369</td></tr><tr><td>&hellip;</td><td>&hellip;</td></tr><tr><td>60.7469</td><td>57.3896</td></tr><tr><td>60.3042</td><td>56.9552</td></tr><tr><td>60.2631</td><td>56.7556</td></tr><tr><td>60.2867</td><td>56.6019</td></tr><tr><td>59.7791</td><td>56.2945</td></tr></tbody></table></div>"
      ],
      "text/plain": [
       "shape: (11, 2)\n",
       "┌─────────┬─────────┐\n",
       "│ EUR     ┆ USD     │\n",
       "│ ---     ┆ ---     │\n",
       "│ f64     ┆ f64     │\n",
       "╞═════════╪═════════╡\n",
       "│ 59.8107 ┆ 55.9606 │\n",
       "│ 59.8953 ┆ 56.1396 │\n",
       "│ 60.2427 ┆ 56.5553 │\n",
       "│ 59.6948 ┆ 55.894  │\n",
       "│ 60.0827 ┆ 56.4369 │\n",
       "│ …       ┆ …       │\n",
       "│ 60.7469 ┆ 57.3896 │\n",
       "│ 60.3042 ┆ 56.9552 │\n",
       "│ 60.2631 ┆ 56.7556 │\n",
       "│ 60.2867 ┆ 56.6019 │\n",
       "│ 59.7791 ┆ 56.2945 │\n",
       "└─────────┴─────────┘"
      ]
     },
     "execution_count": 54,
     "metadata": {},
     "output_type": "execute_result"
    }
   ],
   "source": [
    "df_pl.select([\"EUR\", \"USD\"])"
   ]
  },
  {
   "cell_type": "code",
   "execution_count": 55,
   "metadata": {},
   "outputs": [
    {
     "data": {
      "text/html": [
       "<div><style>\n",
       ".dataframe > thead > tr,\n",
       ".dataframe > tbody > tr {\n",
       "  text-align: right;\n",
       "  white-space: pre-wrap;\n",
       "}\n",
       "</style>\n",
       "<small>shape: (9, 4)</small><table border=\"1\" class=\"dataframe\"><thead><tr><th>DATE</th><th>EUR</th><th>USD</th><th>GBP</th></tr><tr><td>date</td><td>f64</td><td>f64</td><td>f64</td></tr></thead><tbody><tr><td>2017-04-04</td><td>59.8953</td><td>56.1396</td><td>70.3429</td></tr><tr><td>2017-04-05</td><td>60.2427</td><td>56.5553</td><td>70.3548</td></tr><tr><td>2017-04-07</td><td>60.0827</td><td>56.4369</td><td>70.3655</td></tr><tr><td>2017-04-08</td><td>60.5687</td><td>56.9201</td><td>70.9281</td></tr><tr><td>2017-04-11</td><td>60.7469</td><td>57.3896</td><td>71.1746</td></tr><tr><td>2017-04-12</td><td>60.3042</td><td>56.9552</td><td>70.7384</td></tr><tr><td>2017-04-13</td><td>60.2631</td><td>56.7556</td><td>70.9502</td></tr><tr><td>2017-04-14</td><td>60.2867</td><td>56.6019</td><td>71.0467</td></tr><tr><td>2017-04-15</td><td>59.7791</td><td>56.2945</td><td>70.4413</td></tr></tbody></table></div>"
      ],
      "text/plain": [
       "shape: (9, 4)\n",
       "┌────────────┬─────────┬─────────┬─────────┐\n",
       "│ DATE       ┆ EUR     ┆ USD     ┆ GBP     │\n",
       "│ ---        ┆ ---     ┆ ---     ┆ ---     │\n",
       "│ date       ┆ f64     ┆ f64     ┆ f64     │\n",
       "╞════════════╪═════════╪═════════╪═════════╡\n",
       "│ 2017-04-04 ┆ 59.8953 ┆ 56.1396 ┆ 70.3429 │\n",
       "│ 2017-04-05 ┆ 60.2427 ┆ 56.5553 ┆ 70.3548 │\n",
       "│ 2017-04-07 ┆ 60.0827 ┆ 56.4369 ┆ 70.3655 │\n",
       "│ 2017-04-08 ┆ 60.5687 ┆ 56.9201 ┆ 70.9281 │\n",
       "│ 2017-04-11 ┆ 60.7469 ┆ 57.3896 ┆ 71.1746 │\n",
       "│ 2017-04-12 ┆ 60.3042 ┆ 56.9552 ┆ 70.7384 │\n",
       "│ 2017-04-13 ┆ 60.2631 ┆ 56.7556 ┆ 70.9502 │\n",
       "│ 2017-04-14 ┆ 60.2867 ┆ 56.6019 ┆ 71.0467 │\n",
       "│ 2017-04-15 ┆ 59.7791 ┆ 56.2945 ┆ 70.4413 │\n",
       "└────────────┴─────────┴─────────┴─────────┘"
      ]
     },
     "execution_count": 55,
     "metadata": {},
     "output_type": "execute_result"
    }
   ],
   "source": [
    "df_pl.filter(pl.col(\"USD\") > 56)"
   ]
  },
  {
   "cell_type": "code",
   "execution_count": 56,
   "metadata": {},
   "outputs": [
    {
     "data": {
      "text/html": [
       "<div><style>\n",
       ".dataframe > thead > tr,\n",
       ".dataframe > tbody > tr {\n",
       "  text-align: right;\n",
       "  white-space: pre-wrap;\n",
       "}\n",
       "</style>\n",
       "<small>shape: (11, 5)</small><table border=\"1\" class=\"dataframe\"><thead><tr><th>DATE</th><th>EUR</th><th>USD</th><th>GBP</th><th>new_USD</th></tr><tr><td>date</td><td>f64</td><td>f64</td><td>f64</td><td>f64</td></tr></thead><tbody><tr><td>2017-04-01</td><td>59.8107</td><td>55.9606</td><td>69.7605</td><td>56.9606</td></tr><tr><td>2017-04-04</td><td>59.8953</td><td>56.1396</td><td>70.3429</td><td>55.1396</td></tr><tr><td>2017-04-05</td><td>60.2427</td><td>56.5553</td><td>70.3548</td><td>55.5553</td></tr><tr><td>2017-04-06</td><td>59.6948</td><td>55.894</td><td>69.4986</td><td>56.894</td></tr><tr><td>2017-04-07</td><td>60.0827</td><td>56.4369</td><td>70.3655</td><td>55.4369</td></tr><tr><td>&hellip;</td><td>&hellip;</td><td>&hellip;</td><td>&hellip;</td><td>&hellip;</td></tr><tr><td>2017-04-11</td><td>60.7469</td><td>57.3896</td><td>71.1746</td><td>56.3896</td></tr><tr><td>2017-04-12</td><td>60.3042</td><td>56.9552</td><td>70.7384</td><td>55.9552</td></tr><tr><td>2017-04-13</td><td>60.2631</td><td>56.7556</td><td>70.9502</td><td>55.7556</td></tr><tr><td>2017-04-14</td><td>60.2867</td><td>56.6019</td><td>71.0467</td><td>55.6019</td></tr><tr><td>2017-04-15</td><td>59.7791</td><td>56.2945</td><td>70.4413</td><td>55.2945</td></tr></tbody></table></div>"
      ],
      "text/plain": [
       "shape: (11, 5)\n",
       "┌────────────┬─────────┬─────────┬─────────┬─────────┐\n",
       "│ DATE       ┆ EUR     ┆ USD     ┆ GBP     ┆ new_USD │\n",
       "│ ---        ┆ ---     ┆ ---     ┆ ---     ┆ ---     │\n",
       "│ date       ┆ f64     ┆ f64     ┆ f64     ┆ f64     │\n",
       "╞════════════╪═════════╪═════════╪═════════╪═════════╡\n",
       "│ 2017-04-01 ┆ 59.8107 ┆ 55.9606 ┆ 69.7605 ┆ 56.9606 │\n",
       "│ 2017-04-04 ┆ 59.8953 ┆ 56.1396 ┆ 70.3429 ┆ 55.1396 │\n",
       "│ 2017-04-05 ┆ 60.2427 ┆ 56.5553 ┆ 70.3548 ┆ 55.5553 │\n",
       "│ 2017-04-06 ┆ 59.6948 ┆ 55.894  ┆ 69.4986 ┆ 56.894  │\n",
       "│ 2017-04-07 ┆ 60.0827 ┆ 56.4369 ┆ 70.3655 ┆ 55.4369 │\n",
       "│ …          ┆ …       ┆ …       ┆ …       ┆ …       │\n",
       "│ 2017-04-11 ┆ 60.7469 ┆ 57.3896 ┆ 71.1746 ┆ 56.3896 │\n",
       "│ 2017-04-12 ┆ 60.3042 ┆ 56.9552 ┆ 70.7384 ┆ 55.9552 │\n",
       "│ 2017-04-13 ┆ 60.2631 ┆ 56.7556 ┆ 70.9502 ┆ 55.7556 │\n",
       "│ 2017-04-14 ┆ 60.2867 ┆ 56.6019 ┆ 71.0467 ┆ 55.6019 │\n",
       "│ 2017-04-15 ┆ 59.7791 ┆ 56.2945 ┆ 70.4413 ┆ 55.2945 │\n",
       "└────────────┴─────────┴─────────┴─────────┴─────────┘"
      ]
     },
     "execution_count": 56,
     "metadata": {},
     "output_type": "execute_result"
    }
   ],
   "source": [
    "df_pl.with_columns(\n",
    "    new_USD=pl.when(pl.col(\"USD\") > 56)\n",
    "            .then(pl.col(\"USD\") - 1)\n",
    "            .otherwise(pl.col(\"USD\") + 1) \n",
    ")"
   ]
  },
  {
   "cell_type": "markdown",
   "metadata": {},
   "source": [
    "# SQLite\n",
    "\n",
    "Открытая встраиваемая СУБД. Данные базы данных могут храниться в одном файле. Иногда удобно использовать вместе с `Pandas`. Для работы удобно использовать [ORM](https://en.wikipedia.org/wiki/Object%E2%80%93relational_mapping)-библиотеку [SQLAlchemy](https://www.sqlalchemy.org/)."
   ]
  },
  {
   "cell_type": "markdown",
   "metadata": {},
   "source": [
    "Можно сохранить `DataFrame` в таблицу"
   ]
  },
  {
   "cell_type": "code",
   "execution_count": 57,
   "metadata": {},
   "outputs": [
    {
     "data": {
      "text/plain": [
       "11"
      ]
     },
     "execution_count": 57,
     "metadata": {},
     "output_type": "execute_result"
    }
   ],
   "source": [
    "from sqlalchemy import create_engine\n",
    "from sqlalchemy import text\n",
    "\n",
    "df = pd.read_csv(\"data/currencies.csv\", index_col=0, header=0, parse_dates=[0])\n",
    "\n",
    "engine = create_engine(\"sqlite:///:memory:\")\n",
    "df.to_sql(\"currencies\", engine)    "
   ]
  },
  {
   "cell_type": "markdown",
   "metadata": {},
   "source": [
    "Из этой таблицы можно прочитать данные и записать опять в `DataFrame`"
   ]
  },
  {
   "cell_type": "code",
   "execution_count": 58,
   "metadata": {},
   "outputs": [
    {
     "name": "stdout",
     "output_type": "stream",
     "text": [
      "('2017-04-05 00:00:00.000000', 60.2427, 56.5553, 70.3548)\n",
      "('2017-04-07 00:00:00.000000', 60.0827, 56.4369, 70.3655)\n",
      "('2017-04-08 00:00:00.000000', 60.5687, 56.9201, 70.9281)\n",
      "('2017-04-11 00:00:00.000000', 60.7469, 57.3896, 71.1746)\n",
      "('2017-04-12 00:00:00.000000', 60.3042, 56.9552, 70.7384)\n",
      "('2017-04-13 00:00:00.000000', 60.2631, 56.7556, 70.9502)\n",
      "('2017-04-14 00:00:00.000000', 60.2867, 56.6019, 71.0467)\n"
     ]
    },
    {
     "data": {
      "text/html": [
       "<div>\n",
       "<style scoped>\n",
       "    .dataframe tbody tr th:only-of-type {\n",
       "        vertical-align: middle;\n",
       "    }\n",
       "\n",
       "    .dataframe tbody tr th {\n",
       "        vertical-align: top;\n",
       "    }\n",
       "\n",
       "    .dataframe thead th {\n",
       "        text-align: right;\n",
       "    }\n",
       "</style>\n",
       "<table border=\"1\" class=\"dataframe\">\n",
       "  <thead>\n",
       "    <tr style=\"text-align: right;\">\n",
       "      <th></th>\n",
       "      <th>DATE</th>\n",
       "      <th>EUR</th>\n",
       "      <th>USD</th>\n",
       "      <th>GBP</th>\n",
       "    </tr>\n",
       "  </thead>\n",
       "  <tbody>\n",
       "    <tr>\n",
       "      <th>0</th>\n",
       "      <td>2017-04-05 00:00:00.000000</td>\n",
       "      <td>60.2427</td>\n",
       "      <td>56.5553</td>\n",
       "      <td>70.3548</td>\n",
       "    </tr>\n",
       "    <tr>\n",
       "      <th>1</th>\n",
       "      <td>2017-04-07 00:00:00.000000</td>\n",
       "      <td>60.0827</td>\n",
       "      <td>56.4369</td>\n",
       "      <td>70.3655</td>\n",
       "    </tr>\n",
       "    <tr>\n",
       "      <th>2</th>\n",
       "      <td>2017-04-08 00:00:00.000000</td>\n",
       "      <td>60.5687</td>\n",
       "      <td>56.9201</td>\n",
       "      <td>70.9281</td>\n",
       "    </tr>\n",
       "    <tr>\n",
       "      <th>3</th>\n",
       "      <td>2017-04-11 00:00:00.000000</td>\n",
       "      <td>60.7469</td>\n",
       "      <td>57.3896</td>\n",
       "      <td>71.1746</td>\n",
       "    </tr>\n",
       "    <tr>\n",
       "      <th>4</th>\n",
       "      <td>2017-04-12 00:00:00.000000</td>\n",
       "      <td>60.3042</td>\n",
       "      <td>56.9552</td>\n",
       "      <td>70.7384</td>\n",
       "    </tr>\n",
       "    <tr>\n",
       "      <th>5</th>\n",
       "      <td>2017-04-13 00:00:00.000000</td>\n",
       "      <td>60.2631</td>\n",
       "      <td>56.7556</td>\n",
       "      <td>70.9502</td>\n",
       "    </tr>\n",
       "    <tr>\n",
       "      <th>6</th>\n",
       "      <td>2017-04-14 00:00:00.000000</td>\n",
       "      <td>60.2867</td>\n",
       "      <td>56.6019</td>\n",
       "      <td>71.0467</td>\n",
       "    </tr>\n",
       "  </tbody>\n",
       "</table>\n",
       "</div>"
      ],
      "text/plain": [
       "                         DATE      EUR      USD      GBP\n",
       "0  2017-04-05 00:00:00.000000  60.2427  56.5553  70.3548\n",
       "1  2017-04-07 00:00:00.000000  60.0827  56.4369  70.3655\n",
       "2  2017-04-08 00:00:00.000000  60.5687  56.9201  70.9281\n",
       "3  2017-04-11 00:00:00.000000  60.7469  57.3896  71.1746\n",
       "4  2017-04-12 00:00:00.000000  60.3042  56.9552  70.7384\n",
       "5  2017-04-13 00:00:00.000000  60.2631  56.7556  70.9502\n",
       "6  2017-04-14 00:00:00.000000  60.2867  56.6019  71.0467"
      ]
     },
     "execution_count": 58,
     "metadata": {},
     "output_type": "execute_result"
    }
   ],
   "source": [
    "with engine.connect() as conn:\n",
    "    for line in conn.execute(text(\"SELECT * FROM currencies WHERE EUR > 60\")):\n",
    "        print(line)\n",
    "\n",
    "df_new = pd.read_sql_query(\"SELECT * FROM currencies WHERE EUR > 60\", engine)\n",
    "df_new"
   ]
  },
  {
   "cell_type": "markdown",
   "metadata": {},
   "source": [
    "Можно создать таблицу (или взять существующую в БД)"
   ]
  },
  {
   "cell_type": "code",
   "execution_count": 59,
   "metadata": {},
   "outputs": [
    {
     "data": {
      "text/html": [
       "<div>\n",
       "<style scoped>\n",
       "    .dataframe tbody tr th:only-of-type {\n",
       "        vertical-align: middle;\n",
       "    }\n",
       "\n",
       "    .dataframe tbody tr th {\n",
       "        vertical-align: top;\n",
       "    }\n",
       "\n",
       "    .dataframe thead th {\n",
       "        text-align: right;\n",
       "    }\n",
       "</style>\n",
       "<table border=\"1\" class=\"dataframe\">\n",
       "  <thead>\n",
       "    <tr style=\"text-align: right;\">\n",
       "      <th></th>\n",
       "      <th>word</th>\n",
       "      <th>count</th>\n",
       "    </tr>\n",
       "  </thead>\n",
       "  <tbody>\n",
       "    <tr>\n",
       "      <th>0</th>\n",
       "      <td>s_0</td>\n",
       "      <td>0</td>\n",
       "    </tr>\n",
       "    <tr>\n",
       "      <th>1</th>\n",
       "      <td>s_1</td>\n",
       "      <td>1</td>\n",
       "    </tr>\n",
       "    <tr>\n",
       "      <th>2</th>\n",
       "      <td>s_2</td>\n",
       "      <td>2</td>\n",
       "    </tr>\n",
       "    <tr>\n",
       "      <th>3</th>\n",
       "      <td>s_3</td>\n",
       "      <td>3</td>\n",
       "    </tr>\n",
       "    <tr>\n",
       "      <th>4</th>\n",
       "      <td>s_4</td>\n",
       "      <td>4</td>\n",
       "    </tr>\n",
       "    <tr>\n",
       "      <th>5</th>\n",
       "      <td>s_5</td>\n",
       "      <td>5</td>\n",
       "    </tr>\n",
       "    <tr>\n",
       "      <th>6</th>\n",
       "      <td>s_6</td>\n",
       "      <td>6</td>\n",
       "    </tr>\n",
       "    <tr>\n",
       "      <th>7</th>\n",
       "      <td>s_7</td>\n",
       "      <td>7</td>\n",
       "    </tr>\n",
       "    <tr>\n",
       "      <th>8</th>\n",
       "      <td>s_8</td>\n",
       "      <td>8</td>\n",
       "    </tr>\n",
       "    <tr>\n",
       "      <th>9</th>\n",
       "      <td>s_9</td>\n",
       "      <td>9</td>\n",
       "    </tr>\n",
       "  </tbody>\n",
       "</table>\n",
       "</div>"
      ],
      "text/plain": [
       "  word  count\n",
       "0  s_0      0\n",
       "1  s_1      1\n",
       "2  s_2      2\n",
       "3  s_3      3\n",
       "4  s_4      4\n",
       "5  s_5      5\n",
       "6  s_6      6\n",
       "7  s_7      7\n",
       "8  s_8      8\n",
       "9  s_9      9"
      ]
     },
     "execution_count": 59,
     "metadata": {},
     "output_type": "execute_result"
    }
   ],
   "source": [
    "with engine.begin() as conn:\n",
    "    conn.execute(\n",
    "        text(\"\"\"\n",
    "                CREATE TABLE IF NOT EXISTS words( \n",
    "                     word VARCHAR(20),\n",
    "                     count INT\n",
    "                );\n",
    "            \"\"\")\n",
    "    )\n",
    "    for idx in range(10):\n",
    "        conn.execute(text(\"INSERT INTO words(word, count) VALUES (:word, :count)\"), parameters=dict(word=f\"s_{idx}\", count=idx))\n",
    "\n",
    "df_new = pd.read_sql_table(\"words\", engine)\n",
    "df_new"
   ]
  },
  {
   "cell_type": "markdown",
   "metadata": {},
   "source": [
    "Пример - подсчет минимальной декабря в г. Санкт-Петербурге"
   ]
  },
  {
   "cell_type": "code",
   "execution_count": 60,
   "metadata": {},
   "outputs": [
    {
     "data": {
      "text/html": [
       "<div>\n",
       "<style scoped>\n",
       "    .dataframe tbody tr th:only-of-type {\n",
       "        vertical-align: middle;\n",
       "    }\n",
       "\n",
       "    .dataframe tbody tr th {\n",
       "        vertical-align: top;\n",
       "    }\n",
       "\n",
       "    .dataframe thead th {\n",
       "        text-align: right;\n",
       "    }\n",
       "</style>\n",
       "<table border=\"1\" class=\"dataframe\">\n",
       "  <thead>\n",
       "    <tr style=\"text-align: right;\">\n",
       "      <th></th>\n",
       "      <th>year</th>\n",
       "      <th>m</th>\n",
       "    </tr>\n",
       "  </thead>\n",
       "  <tbody>\n",
       "    <tr>\n",
       "      <th>0</th>\n",
       "      <td>2008</td>\n",
       "      <td>-6</td>\n",
       "    </tr>\n",
       "    <tr>\n",
       "      <th>1</th>\n",
       "      <td>2009</td>\n",
       "      <td>-13</td>\n",
       "    </tr>\n",
       "    <tr>\n",
       "      <th>2</th>\n",
       "      <td>2010</td>\n",
       "      <td>-16</td>\n",
       "    </tr>\n",
       "    <tr>\n",
       "      <th>3</th>\n",
       "      <td>2011</td>\n",
       "      <td>-2</td>\n",
       "    </tr>\n",
       "    <tr>\n",
       "      <th>4</th>\n",
       "      <td>2012</td>\n",
       "      <td>-19</td>\n",
       "    </tr>\n",
       "    <tr>\n",
       "      <th>5</th>\n",
       "      <td>2013</td>\n",
       "      <td>-8</td>\n",
       "    </tr>\n",
       "    <tr>\n",
       "      <th>6</th>\n",
       "      <td>2014</td>\n",
       "      <td>-11</td>\n",
       "    </tr>\n",
       "    <tr>\n",
       "      <th>7</th>\n",
       "      <td>2015</td>\n",
       "      <td>-5</td>\n",
       "    </tr>\n",
       "    <tr>\n",
       "      <th>8</th>\n",
       "      <td>2016</td>\n",
       "      <td>-9</td>\n",
       "    </tr>\n",
       "  </tbody>\n",
       "</table>\n",
       "</div>"
      ],
      "text/plain": [
       "   year   m\n",
       "0  2008  -6\n",
       "1  2009 -13\n",
       "2  2010 -16\n",
       "3  2011  -2\n",
       "4  2012 -19\n",
       "5  2013  -8\n",
       "6  2014 -11\n",
       "7  2015  -5\n",
       "8  2016  -9"
      ]
     },
     "execution_count": 60,
     "metadata": {},
     "output_type": "execute_result"
    }
   ],
   "source": [
    "df = pd.read_csv(\"data/weather.csv\", index_col=0, parse_dates=[0])\n",
    "df.to_sql(\"weather\", engine, if_exists=\"replace\")\n",
    "\n",
    "pd.read_sql_query(\n",
    "    \"\"\"\n",
    "        SELECT strftime('%Y', Day) AS year, MIN(t) as m\n",
    "        FROM weather\n",
    "        WHERE strftime('%m', Day) = '12' \n",
    "        GROUP BY year\n",
    "    \"\"\", \n",
    "    engine\n",
    ")   "
   ]
  }
 ],
 "metadata": {
  "kernelspec": {
   "display_name": "Python 3.10.6 64-bit",
   "language": "python",
   "name": "python3"
  },
  "language_info": {
   "codemirror_mode": {
    "name": "ipython",
    "version": 3
   },
   "file_extension": ".py",
   "mimetype": "text/x-python",
   "name": "python",
   "nbconvert_exporter": "python",
   "pygments_lexer": "ipython3",
   "version": "3.11.0rc1"
  },
  "vscode": {
   "interpreter": {
    "hash": "916dbcbb3f70747c44a77c7bcd40155683ae19c65e1c03b4aa3499c5328201f1"
   }
  }
 },
 "nbformat": 4,
 "nbformat_minor": 4
}
