{
 "cells": [
  {
   "cell_type": "markdown",
   "metadata": {},
   "source": [
    "# Задание 2.\n",
    "\n",
    "**NB. Все упражнения ниже нужно делать без использования циклов Python в явном (`while`, `for`) и неявном виде (list comprehension, `map`, `reduce` и пр)**\n",
    "\n",
    "Задания по манипуляциям с массивами чаще всего решаются в одно/два выражения. "
   ]
  },
  {
   "cell_type": "code",
   "execution_count": 1,
   "metadata": {},
   "outputs": [
    {
     "data": {
      "text/plain": [
       "array([[67,  3, 68, ..., 71, 19, 34],\n",
       "       [30, 96, 20, ...,  4, 96, 28],\n",
       "       [14, 81, 38, ..., 82, 44, 85],\n",
       "       ...,\n",
       "       [87, 15, 20, ..., 85, 42, 73],\n",
       "       [55, 21, 20, ..., 67, 40, 13],\n",
       "       [ 5, 14, 74, ..., 51, 97, 42]])"
      ]
     },
     "execution_count": 1,
     "metadata": {},
     "output_type": "execute_result"
    }
   ],
   "source": [
    "%matplotlib inline\n",
    "import numpy as np\n",
    "import matplotlib.pyplot as plt\n",
    "import seaborn as sns\n",
    "sns.set_theme()\n",
    "\n",
    "A = np.random.randint(0, 100, size=(200, 50))\n",
    "A"
   ]
  },
  {
   "cell_type": "markdown",
   "metadata": {},
   "source": [
    "# Задание 2.1 (2 балла)\n",
    "\n",
    "Сгенерируйте новый массив, в котором столбцы массива `A` переставлены в случайном порядке"
   ]
  },
  {
   "cell_type": "code",
   "execution_count": null,
   "metadata": {},
   "outputs": [],
   "source": "np.random.shuffle(A.T).T"
  },
  {
   "cell_type": "markdown",
   "metadata": {},
   "source": [
    "# Задание 2.2 (4 балла)\n",
    "\n",
    "Сгенерируйте новый массив, который содержит только те строки массива `A`, в которых: \n",
    "- сумма элементов по четным столбцам (индексы $0, 2, \\ldots$) больше среднего значения (по всему массиву) суммы элементов по нечетным столбцам (индексы $1, 3, \\ldots$) "
   ]
  },
  {
   "cell_type": "code",
   "execution_count": null,
   "metadata": {},
   "outputs": [],
   "source": [
    "# Извлекаем четные и нечетные столбцы массива A\n",
    "even_cols = A[:, ::2]  # Четные столбцы\n",
    "odd_cols = A[:, 1::2]  # Нечетные столбцы\n",
    "\n",
    "# Вычисляем условие, при котором сумма четных столбцов больше среднего значения нечетных\n",
    "condition = np.sum(even_cols, axis=1) > np.mean(np.sum(odd_cols, axis=1))\n",
    "\n",
    "# Отбираем строки массива A, которые удовлетворяют заданному условию\n",
    "A[condition]"
   ]
  },
  {
   "cell_type": "markdown",
   "metadata": {},
   "source": [
    "# Задача 2.3 (3 балла)\n",
    "\n",
    "Найдите индекс строки массива `A`, в которой разница между максимальным и минимальным элементом максимальна"
   ]
  },
  {
   "cell_type": "code",
   "execution_count": null,
   "metadata": {},
   "outputs": [],
   "source": [
    "# Вычисляем разницу между максимальным и минимальным элементами каждой строки массива A\n",
    "diff = np.max(A, axis=1) - np.min(A, axis=1)\n",
    "\n",
    "# Находим индекс строки, в которой эта разница максимальна\n",
    "index_max_diff = np.argmax(diff)\n"
   ]
  },
  {
   "cell_type": "markdown",
   "metadata": {},
   "source": [
    "# Задание 2.4 (5 баллов)\n",
    "\n",
    "Сгенерируйте массив той же размерности, что и `A`, но в котором каждый элемент заменен на его порядковый номер (начиная с 1) в отсортированном по возрастанию массиве из элементов `A`\n",
    "\n",
    "Если `A` выглядит так:\n",
    "$$\n",
    "\\begin{pmatrix}\n",
    "12 & 14\\\\\n",
    "1 & 2\n",
    "\\end{pmatrix}\n",
    "$$\n",
    "то результат должен быть\n",
    "$$\n",
    "\\begin{pmatrix}\n",
    "3 & 4\\\\\n",
    "1 & 2\n",
    "\\end{pmatrix}\n",
    "$$\n",
    "\n",
    "*Tip: рассмотрите возможность неоднократного применения [argsort()](https://numpy.org/doc/stable/reference/generated/numpy.ndarray.argsort.html)*"
   ]
  },
  {
   "cell_type": "code",
   "execution_count": null,
   "metadata": {},
   "outputs": [],
   "source": [
    "# Получаем индексы элементов массива A в порядке возрастания\n",
    "sorted_indices = np.argsort(A, axis=None)\n",
    "\n",
    "# Создаем новый массив того же размера, что и A\n",
    "ranked_array = np.empty_like(A)\n",
    "\n",
    "# Заполняем новый массив порядковыми номерами элементов из исходного массива A\n",
    "ranked_array.flat[sorted_indices] = np.arange(1, A.size + 1)\n",
    "\n",
    "# Выводим отсортированный массив с порядковыми номерами\n",
    "ranked_array"
   ]
  },
  {
   "cell_type": "markdown",
   "metadata": {},
   "source": [
    "# Задание 2.5 (2 балла)\n",
    "\n",
    "Примените $\\min-\\max$ - нормализацию к строкам массива `A`. То есть нужно получить новый массивы, в каждой строке которого максимальный элементы равен $1$, минимальный - $0$. "
   ]
  },
  {
   "cell_type": "code",
   "execution_count": null,
   "metadata": {},
   "outputs": [],
   "source": [
    "# Вычисляем минимальные значения по строкам массива A и добавляем новую ось\n",
    "min_vals = np.min(A, axis=1)[:, np.newaxis]\n",
    "\n",
    "# Вычисляем максимальные значения по строкам массива A и добавляем новую ось\n",
    "max_vals = np.max(A, axis=1)[:, np.newaxis]\n",
    "\n",
    "# Применяем нормализацию min-max к массиву A\n",
    "# Каждый элемент в строке вычитается из минимального значения и делится на разницу между максимальным и минимальным значением\n",
    "normalized_A = (A - min_vals) / (max_vals - min_vals)\n",
    "\n",
    "# Возвращаем нормализованный массив\n",
    "normalized_A\n"
   ]
  },
  {
   "cell_type": "markdown",
   "metadata": {},
   "source": [
    "# Задание 2.6 (2 балла)\n",
    "\n",
    "Сгенерируйте новый трехмерный массив, размерности $10 \\times 200 \\times 50$. Подмассивы по нулевой оси должны состоять из элементов `A`, умноженных на $1 - 10$ соответственно"
   ]
  },
  {
   "cell_type": "code",
   "execution_count": null,
   "metadata": {},
   "outputs": [],
   "source": [
    "new_array = np.stack([A * i for i in range(1, 11)], axis=0)\n",
    "new_array"
   ]
  },
  {
   "cell_type": "markdown",
   "metadata": {},
   "source": [
    "# Задание 2.7 (2 балла)\n",
    "\n",
    "Создайте новый массив, такой же размерности, как и `A`, в котором сначала сгруппированы четные столбцы `A`, потом  нечетные. Используйте [np.concat()](https://numpy.org/doc/stable/reference/generated/numpy.concatenate.html) "
   ]
  },
  {
   "cell_type": "code",
   "execution_count": null,
   "metadata": {},
   "outputs": [],
   "source": [
    "even_cols = A[:, ::2]\n",
    "odd_cols = A[:, 1::2]\n",
    "np.concatenate([even_cols, odd_cols], axis=1)"
   ]
  },
  {
   "cell_type": "markdown",
   "metadata": {},
   "source": [
    "# Задание 2.8 (2 балла)\n",
    "\n",
    "Посчитайте количество строк массива `A`, в который все элементы больше 5. Используйте [np.all()](https://numpy.org/doc/stable/reference/generated/numpy.all.html) "
   ]
  },
  {
   "cell_type": "code",
   "execution_count": null,
   "metadata": {},
   "outputs": [],
   "source": "np.sum(np.all(A > 5, axis=1))"
  },
  {
   "cell_type": "markdown",
   "metadata": {},
   "source": [
    "# Задание 2.9 (2 балла)\n",
    "\n",
    "Поделите массив `A` горизонтально на 10 частей и создайте новый массив размерности $20 \\times 50$, который является средним этих частей. Используйте [np.split()](https://numpy.org/doc/stable/reference/generated/numpy.split.html)"
   ]
  },
  {
   "cell_type": "code",
   "execution_count": null,
   "metadata": {},
   "outputs": [],
   "source": [
    "split_parts = np.split(A, 10, axis=0)\n",
    "np.mean(split_parts, axis=0)"
   ]
  },
  {
   "cell_type": "markdown",
   "metadata": {},
   "source": [
    "# Задание 2.10 (4 балла)\n",
    "\n",
    "\"Разверните\" массив `A` в одномерный массив. Оставьте в нём только уникальные элементы в том же порядке, в котором они встречаются в массиве. Используйте [np.unique()](https://numpy.org/doc/stable/reference/generated/numpy.unique.html)"
   ]
  },
  {
   "cell_type": "code",
   "execution_count": null,
   "metadata": {},
   "outputs": [],
   "source": "np.unique(A)"
  },
  {
   "cell_type": "markdown",
   "metadata": {},
   "source": [
    "# Задание 2.11 (3 балла)\n",
    "\n",
    "Создайте одномерный массив размерности $200$, в котором каждый элемент - евклидово расстояние между соответствующей строкой `A` и \"средней\" строкой `A`"
   ]
  },
  {
   "cell_type": "code",
   "execution_count": null,
   "metadata": {},
   "outputs": [],
   "source": [
    "mean_row = np.mean(A, axis=0)\n",
    "distances = np.linalg.norm(A - mean_row, axis=1)\n",
    "distances"
   ]
  },
  {
   "cell_type": "markdown",
   "metadata": {},
   "source": [
    "# Задание 2.12 (2 балла)\n",
    "\n",
    "Создайте новый массив, который состоит из элементов `A`, измененных по следующим правилам:\n",
    "- если элемент меньше $50$, то он умножается на $2$\n",
    "- в противном случае он умножается на $3$\n",
    "\n",
    "Используйте [np.where()](https://numpy.org/doc/stable/reference/generated/numpy.where.html)"
   ]
  },
  {
   "cell_type": "code",
   "execution_count": null,
   "metadata": {},
   "outputs": [],
   "source": "np.where(A < 50, A * 2, A * 3)"
  },
  {
   "cell_type": "markdown",
   "metadata": {},
   "source": [
    "# Задание 2.13 (4 балла)\n",
    "\n",
    "Разверните массив `A` в одномерный массив. Создайте три новых массива, подсчитав скользящие средние по окнам $3$, $5$, $10$. Найдите сумму этих массивов, выровнив их размерности нулями справа\n",
    "\n",
    "*Tip: реализуйте функцию, которая считает скользящее среднее. Используйте [np.cumsum()](https://numpy.org/doc/stable/reference/generated/numpy.cumsum.html) или [np.convolve()](https://numpy.org/doc/stable/reference/generated/numpy.convolve.html)*"
   ]
  },
  {
   "cell_type": "code",
   "metadata": {},
   "source": [
    "# Преобразуем массив A в одномерный массив\n",
    "flattened = A.flatten()\n",
    "\n",
    "# Вычисляем кумулятивную сумму для одномерного массива\n",
    "cumsum = np.cumsum(flattened)\n",
    "\n",
    "# Определяем размеры окон\n",
    "window_sizes = np.array([3, 5, 10])\n",
    "\n",
    "# Вычисляем начальные и конечные индексы для каждого размера окна\n",
    "start_indices = window_sizes[:, None]   # Преобразуем в столбец\n",
    "end_indices = np.arange(len(flattened) - max(window_sizes) + 1)  # Рассчитываем действительный диапазон\n",
    "\n",
    "# Вычисляем скользящие средние\n",
    "rolling_means = (cumsum[end_indices + start_indices] - cumsum[end_indices]) / window_sizes[:, None]\n",
    "\n",
    "# Добавляем нули спереди для сохранения длины исходного массива\n",
    "padding_sizes = window_sizes[:, None] - 1\n",
    "rolling_means_padded = np.hstack([np.zeros(padding_size) for padding_size in padding_sizes]) + rolling_means\n",
    "\n",
    "# Вычисляем сумму всех скользящих средних\n",
    "sum_rolling_means = np.sum(rolling_means_padded, axis=0)\n"
   ],
   "outputs": [],
   "execution_count": null
  },
  {
   "cell_type": "markdown",
   "metadata": {},
   "source": [
    "# Задание 2.14 (5 баллов)\n",
    "\n",
    "Постройте график функции $$f(x) = (5  \\sin(2x) - \\cos^2(x) - 1 + |x^3| - x^2) / (x^2 + 1)$$  \n",
    "\n",
    "и производной от этой функции.  Найдите минимум (например, c помощью `scipy`) и обозначьте его на графике. На этой же оси постройте графики скользящего среднего этой функции с окном $1$, $2$, $5$."
   ]
  },
  {
   "cell_type": "code",
   "metadata": {},
   "source": [
    "import numpy as np\n",
    "import matplotlib.pyplot as plt\n",
    "\n",
    "# Создаем массив x от -10 до 10 с 1000 точками\n",
    "x = np.linspace(-10, 10, 1000)\n",
    "\n",
    "# Вычисляем функцию y\n",
    "y = (5 * np.sin(2 * x) - np.cos(x) ** 2 - 1 + np.abs(x ** 3) - x ** 2) / (x ** 2 + 1)\n",
    "\n",
    "# Вычисляем производную функции y\n",
    "dy_dx = np.gradient(y, x)\n",
    "\n",
    "# Находим точку минимума\n",
    "min_index = np.argmin(y)\n",
    "min_x = x[min_index]\n",
    "min_y = y[min_index]\n",
    "\n",
    "# Строим график функции и её производной\n",
    "plt.plot(x, y, label='f(x)')\n",
    "plt.plot(x, dy_dx, label=\"f'(x)\")\n",
    "plt.scatter(min_x, min_y, color='red', label='Minimum')\n",
    "\n",
    "# Определяем размеры окон\n",
    "window_sizes = np.array([1, 2, 5])\n",
    "\n",
    "# Создаем массив, содержащий скользящие средние для всех размеров окон\n",
    "# Используем np.array для составления списка из скользящих средних\n",
    "rolling_means = np.array([np.convolve(y, np.ones(size) / size, mode='valid') for size in window_sizes])\n",
    "\n",
    "# Вычисляем x-координаты для каждого размера окна\n",
    "x_valid = [x[size - 1:] for size in window_sizes]\n",
    "\n",
    "# Объединяем графики для всех размеров окон без цикла\n",
    "plt.plot(np.vstack(x_valid).T, rolling_means.T, label=[f'Rolling Mean ({size})' for size in window_sizes])\n",
    "\n",
    "# Добавляем легенду и показываем график\n",
    "plt.legend()\n",
    "plt.show()\n"
   ],
   "outputs": [],
   "execution_count": null
  },
  {
   "cell_type": "markdown",
   "metadata": {},
   "source": [
    "# Задание 2.15 (6 баллов)\n",
    "\n",
    "Есть следующий алгоритм семплинирования, на вход функции подается вектор из целых положительных чисел и число семплов."
   ]
  },
  {
   "cell_type": "code",
   "metadata": {},
   "source": [
    "from typing import List \n",
    "\n",
    "def sample(x: List[int], c: int) -> List[int]:\n",
    "    assert len(x) > 0\n",
    "    \n",
    "    s = np.sum(x)\n",
    "    res = []\n",
    "    for _ in range(c):\n",
    "        val = s * np.random.random()\n",
    "        cur, idx = 0, 0        \n",
    "        while cur + x[idx] <= val:\n",
    "            cur += x[idx]\n",
    "            idx += 1\n",
    "            \n",
    "        res.append(idx)\n",
    "    return res\n",
    "\n",
    "            \n",
    "sample([50, 3, 1, 7, 20], 5) "
   ],
   "outputs": [],
   "execution_count": null
  },
  {
   "cell_type": "markdown",
   "metadata": {},
   "source": [
    "Реализуйте данный алгоритм более оптимальным способом на массивах `numpy`, без использования циклов. Проверьте корректность и идентичность алгоритмов семплирования с помощью статистических тестов."
   ]
  },
  {
   "cell_type": "code",
   "metadata": {},
   "source": [
    "import numpy as np\n",
    "import matplotlib.pyplot as plt\n",
    "from scipy import stats\n",
    "\n",
    "def sample(x: np.ndarray, c: int) -> np.ndarray:\n",
    "    # Проверяем, что массив не пустой\n",
    "    assert len(x) > 0\n",
    "\n",
    "    # Вычисляем сумму элементов массива x\n",
    "    s = np.sum(x)\n",
    "\n",
    "    # Генерируем c случайных значений на отрезке [0, s]\n",
    "    random_vals = s * np.random.random(c)\n",
    "\n",
    "    # Вычисляем кумулятивную сумму массива x\n",
    "    cumulative_sums = np.cumsum(x)\n",
    "\n",
    "    # Находим индексы, соответствующие случайным значениям\n",
    "    indices = np.searchsorted(cumulative_sums, random_vals)\n",
    "\n",
    "    return indices\n",
    "\n",
    "def sample_optimal(x: np.ndarray, c: int) -> np.ndarray:\n",
    "    # Вычисляем сумму элементов массива x\n",
    "    s = np.sum(x)\n",
    "\n",
    "    # Генерируем c случайных значений на отрезке [0, s]\n",
    "    random_vals = s * np.random.random(c)\n",
    "\n",
    "    # Вычисляем кумулятивную сумму массива x\n",
    "    cumulative_sums = np.cumsum(x)\n",
    "\n",
    "    # Находим индексы, соответствующие случайным значениям\n",
    "    return np.searchsorted(cumulative_sums, random_vals)\n",
    "\n",
    "# Пример данных\n",
    "x = np.array([50, 3, 1, 7, 20])\n",
    "c = 10000  # Количество выборок\n",
    "\n",
    "# Генерация выборок\n",
    "samples = sample(x, c)\n",
    "optimal_samples = sample_optimal(x, c)\n",
    "\n",
    "# Статистическая проверка\n",
    "mean_samples = np.mean(samples)\n",
    "std_samples = np.std(samples)\n",
    "mean_optimal_samples = np.mean(optimal_samples)\n",
    "std_optimal_samples = np.std(optimal_samples)\n",
    "\n",
    "# Печатаем результаты\n",
    "print(f'Mean of samples: {mean_samples}, Std of samples: {std_samples}')\n",
    "print(f'Mean of optimal samples: {mean_optimal_samples}, Std of optimal samples: {std_optimal_samples}')\n",
    "\n",
    "# Проверка на идентичность распределений с помощью теста Манна-Уитни\n",
    "statistic, p_value = stats.mannwhitneyu(samples, optimal_samples)\n",
    "print(f'Mann-Whitney U statistic: {statistic}, p-value: {p_value}')\n",
    "\n",
    "# Визуализация распределений\n",
    "plt.hist(samples, bins=30, alpha=0.5, label='Sample', density=True)\n",
    "plt.hist(optimal_samples, bins=30, alpha=0.5, label='Optimal Sample', density=True)\n",
    "plt.legend()\n",
    "plt.title('Distribution of Samples')\n",
    "plt.xlabel('Value')\n",
    "plt.ylabel('Density')\n",
    "plt.show()"
   ],
   "outputs": [],
   "execution_count": null
  },
  {
   "cell_type": "markdown",
   "metadata": {},
   "source": [
    "# Задание 2.16 (3 балла)\n",
    "\n",
    "Есть следующий алгоритм \"случайного блуждания\""
   ]
  },
  {
   "cell_type": "code",
   "metadata": {},
   "source": [
    "import random \n",
    "\n",
    "def walk(n: int):\n",
    "    cur_position = 0\n",
    "    for i in range(n):\n",
    "        cur_position += random.choice([-3, -1, 0, 2, 3])\n",
    "\n",
    "    return cur_position\n",
    "\n",
    "walk(10_000)"
   ],
   "outputs": [],
   "execution_count": null
  },
  {
   "cell_type": "markdown",
   "metadata": {},
   "source": [
    "Реализуйте более эффективную версию с помощью `numpy`, сравните производительность (используя, например, magic `timeit`). Воспользовавшись [kdeplot()](https://seaborn.pydata.org/generated/seaborn.kdeplot.html) или аналогами, постройте график распределения значений `walk(10_000)` на каком-то разумном числе запусков. "
   ]
  },
  {
   "cell_type": "code",
   "metadata": {},
   "source": [
    "import numpy as np\n",
    "import matplotlib.pyplot as plt\n",
    "import seaborn as sns\n",
    "import timeit\n",
    "\n",
    "# Оригинальная реализация\n",
    "def walk_old(n: int):\n",
    "    cur_position = 0\n",
    "    for i in range(n):\n",
    "        cur_position += random.choice([-3, -1, 0, 2, 3])\n",
    "    return cur_position\n",
    "\n",
    "# Оптимизированная реализация с использованием numpy\n",
    "def walk_new(n: int):\n",
    "    steps = np.array([-3, -1, 0, 2, 3])\n",
    "    random_steps = np.random.choice(steps, size=n)\n",
    "    return np.sum(random_steps)\n",
    "\n",
    "# Параметры\n",
    "n = 10_000\n",
    "num_runs = 1000\n",
    "\n",
    "# Тестирование производительности\n",
    "old_time = timeit.timeit('walk_old(n)', globals=globals(), number=num_runs)\n",
    "new_time = timeit.timeit('walk_new(n)', globals=globals(), number=num_runs)\n",
    "\n",
    "print(f'Old implementation time: {old_time:.5f} seconds')\n",
    "print(f'New implementation time: {new_time:.5f} seconds')\n",
    "\n",
    "# Генерация результатов для визуализации\n",
    "results_old = [walk_old(n) for _ in range(1000)]\n",
    "results_new = [walk_new(n) for _ in range(1000)]\n",
    "\n",
    "# Визуализация распределений с помощью kdeplot\n",
    "plt.figure(figsize=(12, 6))\n",
    "sns.kdeplot(results_old, label='Old Implementation', color='blue', fill=True, alpha=0.5)\n",
    "sns.kdeplot(results_new, label='New Implementation', color='orange', fill=True, alpha=0.5)\n",
    "plt.title('Distribution of Final Positions for Random Walk')\n",
    "plt.xlabel('Final Position')\n",
    "plt.ylabel('Density')\n",
    "plt.legend()\n",
    "plt.show()"
   ],
   "outputs": [],
   "execution_count": null
  },
  {
   "cell_type": "markdown",
   "metadata": {},
   "source": [
    "# Задание 2.17 (3 балла)\n",
    "\n",
    "Имеется функция, которая проделывает достаточно странные манипуляции с массивом `numpy`"
   ]
  },
  {
   "cell_type": "code",
   "metadata": {},
   "source": [
    "import numpy.typing as npt\n",
    "\n",
    "def strange_conv(a: npt.NDArray[np.float64]) -> np.float64:\n",
    "    x = a.shape[0]\n",
    "    y = a.shape[1]\n",
    "\n",
    "    t = 1.\n",
    "    for y in range(y - 5):\n",
    "        for x in range(x - 3):\n",
    "            c = 1.5 * a[y+1, x+2] - a[y+5, x+3] * a[y, x] + 0.2 * a[y+4, x]\n",
    "            t = 0.2 * t + 0.8 * c\n",
    "\n",
    "    return t\n",
    "\n",
    "\n",
    "a = np.random.random((10000, 10000))\n",
    "strange_conv(a)\n"
   ],
   "outputs": [],
   "execution_count": null
  },
  {
   "cell_type": "markdown",
   "metadata": {},
   "source": [
    "Оптимизируйте данную функцию с помощью (2 на выбор):\n",
    "- [Numba](https://numba.pydata.org)\n",
    "- `Cython` (+1 балл)\n",
    "- [Taichi](https://github.com/taichi-dev/taichi) (+1 балл)\n",
    "- `Pythran `[[1]](https://pythran.readthedocs.io/en/latest/), [[2]](https://serge-sans-paille.github.io/pythran-stories/pythran-tutorial.html) (+1 балл)\n",
    "\n",
    "Сравните производительность."
   ]
  },
  {
   "metadata": {},
   "cell_type": "code",
   "outputs": [],
   "execution_count": null,
   "source": [
    "import numpy as np\n",
    "import time\n",
    "from numba import njit\n",
    "\n",
    "# Оптимизированная версия с использованием Numba\n",
    "@njit\n",
    "def strange_conv_numba(a: np.ndarray) -> float:\n",
    "    x = a.shape[0]\n",
    "    y = a.shape[1]\n",
    "\n",
    "    t = 1.0\n",
    "    # Два цикла для обработки массива a\n",
    "    for j in range(y - 5):\n",
    "        for i in range(x - 3):\n",
    "            c = 1.5 * a[j + 1, i + 2] - a[j + 5, i + 3] * a[j, i] + 0.2 * a[j + 4, i]\n",
    "            t = 0.2 * t + 0.8 * c\n",
    "    return t\n",
    "\n",
    "# Создание случайного массива размером (10000, 10000)\n",
    "a = np.random.random((10000, 10000))\n",
    "\n",
    "# Тестирование производительности функции с Numba\n",
    "start_time = time.time()\n",
    "result_numba = strange_conv_numba(a)\n",
    "end_time = time.time()\n",
    "print(f'Result (Numba): {result_numba}, Time: {end_time - start_time:.4f} seconds')\n"
   ]
  },
  {
   "cell_type": "code",
   "metadata": {},
   "source": [
    "import taichi as ti\n",
    "import numpy as np\n",
    "import time\n",
    "\n",
    "# Инициализация Taichi\n",
    "ti.init()\n",
    "\n",
    "# Оптимизированная версия с использованием Taichi\n",
    "@ti.func\n",
    "def strange_conv_taichi(a):\n",
    "    t = 1.0\n",
    "    # Два цикла для обработки массива a\n",
    "    for j in range(a.shape[0] - 5):\n",
    "        for i in range(a.shape[1] - 3):\n",
    "            c = 1.5 * a[j + 1, i + 2] - a[j + 5, i + 3] * a[j, i] + 0.2 * a[j + 4, i]\n",
    "            t = 0.2 * t + 0.8 * c\n",
    "    return t\n",
    "\n",
    "# Главная функция Taichi\n",
    "@ti.kernel\n",
    "def run_strange_conv(a: ti.types.ndarray(dtype=ti.f64)) -> ti.f64:\n",
    "    return strange_conv_taichi(a)\n",
    "\n",
    "# Создание случайного массива размером (10000, 10000)\n",
    "a_taichi = ti.ndarray(dtype=ti.f64, shape=(10000, 10000))\n",
    "a_taichi.from_numpy(np.random.random((10000, 10000)))\n",
    "\n",
    "# Тестирование производительности функции с Taichi\n",
    "start_time = time.time()\n",
    "result_taichi = run_strange_conv(a_taichi)\n",
    "end_time = time.time()\n",
    "print(f'Result (Taichi): {result_taichi}, Time: {end_time - start_time:.4f} seconds')\n"
   ],
   "outputs": [],
   "execution_count": null
  }
 ],
 "metadata": {
  "kernelspec": {
   "display_name": "Python 3.10.6 64-bit",
   "language": "python",
   "name": "python3"
  },
  "language_info": {
   "codemirror_mode": {
    "name": "ipython",
    "version": 3
   },
   "file_extension": ".py",
   "mimetype": "text/x-python",
   "name": "python",
   "nbconvert_exporter": "python",
   "pygments_lexer": "ipython3",
   "version": "3.10.6"
  },
  "orig_nbformat": 4,
  "vscode": {
   "interpreter": {
    "hash": "916dbcbb3f70747c44a77c7bcd40155683ae19c65e1c03b4aa3499c5328201f1"
   }
  }
 },
 "nbformat": 4,
 "nbformat_minor": 2
}
