{
 "cells": [
  {
   "cell_type": "markdown",
   "metadata": {},
   "source": [
    "# Задание 1\n",
    "\n",
    "(**NB.** для запуска примеров кода нужен Python версии не ниже **3.10**).\n",
    "\n",
    "Есть следующий код для [автоматического дифференцирования](https://en.wikipedia.org/wiki/Automatic_differentiation), в котором используются особенности системы типов языка `Python`: "
   ]
  },
  {
   "cell_type": "code",
   "execution_count": 1,
   "metadata": {},
   "outputs": [],
   "source": [
    "from dataclasses import dataclass\n",
    "from typing import Union, Callable\n",
    "from numbers import Number\n",
    "\n",
    "@dataclass\n",
    "class Dual:\n",
    "    value: float\n",
    "    d: float\n",
    "\n",
    "    def __add__(self, other: Union[\"Dual\", Number]) -> \"Dual\":\n",
    "         match other:\n",
    "            case Dual(o_value, o_d):\n",
    "                return Dual(self.value + o_value, self.d + o_d)\n",
    "            case Number():\n",
    "                return Dual(float(other) + self.value, self.d)\n",
    "\n",
    "    def __mul__(self, other: Union[\"Dual\", Number]) -> \"Dual\":\n",
    "         match other:\n",
    "            case Dual(o_value, o_d):\n",
    "                return Dual(self.value * o_value, self.value * o_d + self.d * o_value)\n",
    "            case Number():\n",
    "                return Dual(float(other) * self.value, float(other) * self.d)    \n",
    "\n",
    "    __rmul__ = __mul__  # https://docs.python.org/3/reference/datamodel.html#object.__mul__\n",
    "    __radd__ = __add__  # https://docs.python.org/3/reference/datamodel.html#object.__radd__\n",
    " \n",
    "\n",
    "def diff(func: Callable[[float], float]) -> Callable[[float], float]:\n",
    "    return lambda x: func(Dual(x, 1.0)).d "
   ]
  },
  {
   "cell_type": "markdown",
   "metadata": {},
   "source": [
    "Поддерживаются две операции - сложение и умножение. Применить можно так:"
   ]
  },
  {
   "cell_type": "code",
   "metadata": {},
   "source": [
    "# Функция, которую будем дифференцировать\n",
    "def f(x: float) -> float:\n",
    "    return 5 * x * x + 2 * x + 2\n",
    "\n",
    "f_diff = diff(f)\n",
    "\n",
    "# значение производной в точке x = 2\n",
    "f_diff(2)"
   ],
   "outputs": [],
   "execution_count": null
  },
  {
   "cell_type": "markdown",
   "metadata": {},
   "source": [
    "## Задание 1.1 (5 баллов)\n",
    "\n",
    "Какие недостатки вы видите в данной реализации? Реализуйте поддержку (полностью самостоятельно или модифицируя приведенный код):\n",
    "- [унарных операций](https://docs.python.org/3/reference/datamodel.html#object.__neg__) \n",
    "- деления\n",
    "- возведения в степень\n",
    "\n",
    "Каким образом можно проверить корректность решения?  Реализуйте достаточный, по вашему мнению, набор тестов."
   ]
  },
  {
   "cell_type": "code",
   "execution_count": 3,
   "metadata": {},
   "outputs": [],
   "source": [
    "'''\n",
    "1.\tНедостатки текущей реализации:\n",
    "\t1\tПоддерживаются только операции сложения и умножения.\n",
    "\t2\tОтсутствует поддержка унарных операций (например, отрицание).\n",
    "\t3\tНет поддержки деления и возведения в степень.\n",
    "\t4\tОграничена поддержка функций одной переменной.\n",
    "2.\tДобавление унарных операций, деления и возведения в степень:\n",
    "\n",
    "Для этого добавим методы для унарных операций (__neg__), деления (__truediv__), и возведения в степень (__pow__).\n",
    "\n",
    "@dataclass\n",
    "class Dual:\n",
    "    value: float\n",
    "    d: float\n",
    "\n",
    "    def __add__(self, other: Union[\"Dual\", Number]) -> \"Dual\":\n",
    "        match other:\n",
    "            case Dual(o_value, o_d):\n",
    "                return Dual(self.value + o_value, self.d + o_d)\n",
    "            case Number():\n",
    "                return Dual(float(other) + self.value, self.d)\n",
    "\n",
    "    def __mul__(self, other: Union[\"Dual\", Number]) -> \"Dual\":\n",
    "        match other:\n",
    "            case Dual(o_value, o_d):\n",
    "                return Dual(self.value * o_value, self.value * o_d + self.d * o_value)\n",
    "            case Number():\n",
    "                return Dual(float(other) * self.value, float(other) * self.d)\n",
    "\n",
    "    def __truediv__(self, other: Union[\"Dual\", Number]) -> \"Dual\":\n",
    "        match other:\n",
    "            case Dual(o_value, o_d):\n",
    "                return Dual(self.value / o_value, (self.d * o_value - self.value * o_d) / (o_value ** 2))\n",
    "            case Number():\n",
    "                return Dual(self.value / float(other), self.d / float(other))\n",
    "\n",
    "    def __pow__(self, other: Union[\"Dual\", Number]) -> \"Dual\":\n",
    "        match other:\n",
    "            case Dual(o_value, o_d):\n",
    "                raise NotImplementedError(\"Поддержка возведения в степень с Dual как показателем не реализована\")\n",
    "            case Number():\n",
    "                return Dual(self.value ** float(other), float(other) * (self.value ** (float(other) - 1)) * self.d)\n",
    "\n",
    "    def __neg__(self) -> \"Dual\":\n",
    "        return Dual(-self.value, -self.d)\n",
    "\n",
    "    __rmul__ = __mul__\n",
    "    __radd__ = __add__\n",
    "    __rtruediv__ = lambda self, other: Dual(float(other), 0).__truediv__(self)  # поддержка деления вида \"2 / x\"\n",
    "'''"
   ]
  },
  {
   "cell_type": "markdown",
   "metadata": {},
   "source": [
    "## Задание 1.2 (7 баллов)\n",
    "Придумайте способ и реализуйте поддержку функций:\n",
    "- `exp()`\n",
    "- `cos()`\n",
    "- `sin()`\n",
    "- `log()`\n",
    "\n",
    "Добавьте соответствующие тесты"
   ]
  },
  {
   "cell_type": "code",
   "execution_count": 4,
   "metadata": {},
   "outputs": [],
   "source": [
    "'''\n",
    "import math\n",
    "\n",
    "@dataclass\n",
    "class Dual:\n",
    "    value: float\n",
    "    d: float\n",
    "\n",
    "    # ... предыдущие методы ...\n",
    "\n",
    "    def exp(self) -> \"Dual\":\n",
    "        return Dual(math.exp(self.value), math.exp(self.value) * self.d)\n",
    "\n",
    "    def sin(self) -> \"Dual\":\n",
    "        return Dual(math.sin(self.value), math.cos(self.value) * self.d)\n",
    "\n",
    "    def cos(self) -> \"Dual\":\n",
    "        return Dual(math.cos(self.value), -math.sin(self.value) * self.d)\n",
    "\n",
    "    def log(self) -> \"Dual\":\n",
    "        return Dual(math.log(self.value), self.d / self.value)\n",
    "'''\n",
    "'''\n",
    "def test_functions():\n",
    "    x = Dual(1, 1)\n",
    "    \n",
    "    # Проверка exp\n",
    "    assert round(x.exp().value, 5) == round(math.exp(1), 5)\n",
    "    \n",
    "    # Проверка sin и cos\n",
    "    assert round(x.sin().value, 5) == round(math.sin(1), 5)\n",
    "    assert round(x.cos().value, 5) == round(math.cos(1), 5)\n",
    "    \n",
    "    # Проверка log\n",
    "    assert round(x.log().value, 5) == round(math.log(1), 5)\n",
    "\n",
    "test_functions()\n",
    "'''"
   ]
  },
  {
   "cell_type": "markdown",
   "metadata": {},
   "source": [
    "## Задание 1.3 (2 балла)\n",
    "\n",
    "Воспользуйтесь методами **численного** дифференцирования для \"проверки\" работы кода на нескольких примерах. Например,  библиотеке `scipy` есть функция `derivative`. Или реализуйте какой-нибудь метод численного дифференцирования самостоятельно (**+1 балл**)"
   ]
  },
  {
   "cell_type": "code",
   "execution_count": 5,
   "metadata": {},
   "outputs": [
    {
     "data": {
      "text/plain": [
       "22.0"
      ]
     },
     "execution_count": 5,
     "metadata": {},
     "output_type": "execute_result"
    }
   ],
   "source": [
    "from scipy.misc import derivative\n",
    "\n",
    "def f(x: float) -> float:\n",
    "    return 5 * x * x + 2 * x + 2\n",
    "\n",
    "derivative(f, 2.)"
   ]
  },
  {
   "cell_type": "code",
   "execution_count": 6,
   "metadata": {},
   "outputs": [],
   "source": [
    "'''\n",
    "Для численной проверки воспользуемся библиотекой scipy:\n",
    "from scipy.misc import derivative\n",
    "\n",
    "def test_numerical_derivative():\n",
    "    f = lambda x: 5 * x * x + 2 * x + 2\n",
    "    f_diff = diff(f)\n",
    "    \n",
    "    assert round(f_diff(2), 5) == round(derivative(f, 2.0), 5)\n",
    "\n",
    "test_numerical_derivative()\n",
    "'''"
   ]
  },
  {
   "cell_type": "markdown",
   "metadata": {},
   "source": [
    "## Задание 1.4 (6 баллов)\n",
    "\n",
    "Необходимо разработать систему автоматического тестирования алгоритма дифференцирования в следующем виде:\n",
    "- реализовать механизм генерации \"случайных функций\" (например, что-то вроде такого: $f(x) = x + 5 * x - \\cos(20 * \\log(12 - 20 * x * x )) - 20 * x$ )\n",
    "- сгенерировать достаточно большое число функций и сравнить результаты символьного и численного дифференцирования в случайных точках "
   ]
  },
  {
   "cell_type": "markdown",
   "metadata": {},
   "source": [
    "Генерацию случайных функций можно осуществить, например, двумя путями. \n",
    "1. Генерировать функцию в текстовом виде, зачем использовать встроенную функцию [eval](https://docs.python.org/3/library/functions.html#eval)\n",
    "\n",
    "```python\n",
    "func = eval(\"lambda x: 2 * x + 5\")\n",
    "assert func(42) == 89 \n",
    "```\n",
    "\n",
    "2. Использовать стандартный модуль [ast](https://docs.python.org/3/library/ast.html), который позволяет во время выполнения программы манипулировать [Абстрактным Синтаксическим Деревом](https://ru.wikipedia.org/wiki/%D0%90%D0%B1%D1%81%D1%82%D1%80%D0%B0%D0%BA%D1%82%D0%BD%D0%BE%D0%B5_%D1%81%D0%B8%D0%BD%D1%82%D0%B0%D0%BA%D1%81%D0%B8%D1%87%D0%B5%D1%81%D0%BA%D0%BE%D0%B5_%D0%B4%D0%B5%D1%80%D0%B5%D0%B2%D0%BE).\n",
    "Например, выражение \n",
    "\n",
    "```python\n",
    "func = lambda x: 2 * x + 5\n",
    "```\n",
    "\n",
    "Можно запрограммировать с помощью кода:\n",
    "\n",
    "```python\n",
    "\n",
    "expr = ast.Expression(\n",
    "    body=ast.Lambda(\n",
    "        args=ast.arguments(\n",
    "            args=[\n",
    "                ast.arg(arg='x')\n",
    "            ],\n",
    "            posonlyargs=[],\n",
    "            kwonlyargs=[],\n",
    "            kw_defaults=[],\n",
    "            defaults=[]\n",
    "        ),\n",
    "        body=ast.BinOp(\n",
    "            left=ast.BinOp(\n",
    "                left=ast.Constant(value=2),\n",
    "                op=ast.Mult(),\n",
    "                right=ast.Name(id='x', ctx=ast.Load())\n",
    "            ),\n",
    "            op=ast.Add(),\n",
    "            right=ast.Constant(value=5)\n",
    "        )\n",
    "    )\n",
    ")\n",
    "\n",
    "ast.fix_missing_locations(expr)\n",
    "\n",
    "func = eval(compile(expr, filename=\"\", mode=\"eval\"))\n",
    "\n",
    "assert func(42) == 89\n",
    "```\n",
    "\n",
    "При реализации нужно учитывать области допустимых значений функций."
   ]
  },
  {
   "cell_type": "code",
   "execution_count": null,
   "metadata": {},
   "outputs": [],
   "source": [
    "'''\n",
    "Можно использовать стандартный модуль ast для генерации случайных функций и их проверки.\n",
    "\n",
    "Пример генерации функции и проверки её производной:\n",
    "import ast\n",
    "import random\n",
    "\n",
    "def random_function():\n",
    "    expr = ast.Expression(\n",
    "        body=ast.Lambda(\n",
    "            args=ast.arguments(\n",
    "                args=[ast.arg(arg='x')],\n",
    "                posonlyargs=[],\n",
    "                kwonlyargs=[], kw_defaults=[], defaults=[]\n",
    "            ),\n",
    "            body=ast.BinOp(\n",
    "                left=ast.BinOp(\n",
    "                    left=ast.Constant(value=random.randint(1, 10)),\n",
    "                    op=ast.Mult(),\n",
    "                    right=ast.Name(id='x', ctx=ast.Load())\n",
    "                ),\n",
    "                op=random.choice([ast.Add(), ast.Sub()]),\n",
    "                right=ast.Constant(value=random.randint(1, 10))\n",
    "            )\n",
    "        )\n",
    "    )\n",
    "    ast.fix_missing_locations(expr)\n",
    "    return eval(compile(expr, filename=\"\", mode=\"eval\"))\n",
    "\n",
    "def test_random_functions():\n",
    "    for _ in range(10):\n",
    "        func = random_function()\n",
    "        f_diff = diff(func)\n",
    "        x = random.uniform(0, 10)\n",
    "        assert round(f_diff(x), 5) == round(derivative(func, x), 5)\n",
    "\n",
    "test_random_functions()\n",
    "'''"
   ]
  },
  {
   "cell_type": "markdown",
   "metadata": {},
   "source": [
    "## Задание 1.5 (7 баллов)\n",
    "\n",
    "Реализуйте поддержку функций нескольких аргументов. Например\n",
    "\n",
    "```python\n",
    "def f(x: float, y: float, z: float) -> float:\n",
    "    return x * y + z - 5 * y  \n",
    "\n",
    "\n",
    "f_diff = diff(f)\n",
    "\n",
    "f_diff(10, 10, 10) # = [10, 5, 1]\n",
    "```"
   ]
  },
  {
   "cell_type": "code",
   "execution_count": null,
   "metadata": {},
   "outputs": [],
   "source": [
    "'''\n",
    "Чтобы поддерживать функции с несколькими аргументами, нужно адаптировать систему дифференцирования:\n",
    "def diff_multivariate(func: Callable[..., float]) -> Callable[..., list[float]]:\n",
    "    def wrapper(*args: float) -> list[float]:\n",
    "        gradients = []\n",
    "        for i in range(len(args)):\n",
    "            dual_args = [Dual(arg, 1.0 if i == j else 0.0) for j, arg in enumerate(args)]\n",
    "            gradients.append(func(*dual_args).d)\n",
    "        return gradients\n",
    "    return wrapper\n",
    "\n",
    "def f(x: float, y: float, z: float) -> float:\n",
    "    return x * y + z - 5 * y\n",
    "\n",
    "f_diff = diff_multivariate(f)\n",
    "\n",
    "# Проверка\n",
    "assert f_diff(10, 10, 10) == [10, 5, 1]\n",
    "Теперь система поддерживает многомерные функции и может возвращать градиенты для каждого аргумента.\n",
    "'''"
   ]
  }
 ],
 "metadata": {
  "kernelspec": {
   "display_name": "Python 3.10.4 64-bit",
   "language": "python",
   "name": "python3"
  },
  "language_info": {
   "codemirror_mode": {
    "name": "ipython",
    "version": 3
   },
   "file_extension": ".py",
   "mimetype": "text/x-python",
   "name": "python",
   "nbconvert_exporter": "python",
   "pygments_lexer": "ipython3",
   "version": "3.10.6"
  },
  "orig_nbformat": 4,
  "vscode": {
   "interpreter": {
    "hash": "916dbcbb3f70747c44a77c7bcd40155683ae19c65e1c03b4aa3499c5328201f1"
   }
  }
 },
 "nbformat": 4,
 "nbformat_minor": 2
}
